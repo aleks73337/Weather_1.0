{
 "cells": [
  {
   "cell_type": "code",
   "execution_count": 1,
   "metadata": {},
   "outputs": [],
   "source": [
    "import pandas as pd\n",
    "import numpy as np\n",
    "import matplotlib.pyplot as mpl\n",
    "from sklearn.model_selection import train_test_split\n",
    "from sklearn.preprocessing import normalize"
   ]
  },
  {
   "cell_type": "code",
   "execution_count": 104,
   "metadata": {},
   "outputs": [],
   "source": [
    "ny = pd.read_csv('1722861.csv')\n",
    "file1 = pd.read_csv('1724614.csv') \n",
    "## В file1 сразу 3 поинта:\n",
    "## BALTIMORE WASHINGTON INTERNATIONAL AIRPORT, MD US\n",
    "## CHICAGO MIDWAY AIRPORT, IL US\n",
    "## ATLANTA HARTSFIELD INTERNATIONAL AIRPORT, GA US\n",
    "file2 = pd.read_csv('1724698.csv')\n",
    "## BURBANK GLENDALE PASADENA AIRPORT, CA US\n",
    "## PORTLAND TROUTDALE AIRPORT, OR US\n",
    "## GUTHRIE MUNICIPAL AIRPORT, OK US\n",
    "## MINNEAPOLIS ST PAUL INTERNATIONAL AIRPORT, MN US\n",
    "## DENVER CENTENNIAL AIRPORT, CO US\n",
    "## OLATHE JOHNSON CO EXECUTIVE AIRPORT, KS US\n",
    "## SAN ANTONIO INTERNATIONAL AIRPORT, TX US\n",
    "## SAN FRANCISCO INTERNATIONAL AIRPORT, CA US"
   ]
  },
  {
   "cell_type": "markdown",
   "metadata": {},
   "source": [
    "Здесь разделяем на города и берем только то, что нужно"
   ]
  },
  {
   "cell_type": "code",
   "execution_count": 125,
   "metadata": {},
   "outputs": [],
   "source": [
    "ny = ny.loc[ny['NAME'] == 'LA GUARDIA AIRPORT, NY US'][['DATE','ELEVATION', 'AWND', 'WDF2', 'TMAX', 'TMIN']]\n",
    "washington = file1.loc[file1['NAME'] == 'BALTIMORE WASHINGTON INTERNATIONAL AIRPORT, MD US'][['DATE','ELEVATION', 'AWND', 'WDF2', 'TMAX', 'TMIN']]\n",
    "chicago = file1.loc[file1['NAME'] == 'CHICAGO MIDWAY AIRPORT, IL US'][['DATE','ELEVATION', 'AWND', 'WDF2', 'TMAX', 'TMIN']]\n",
    "atlanta = file1.loc[file1['NAME'] == 'ATLANTA HARTSFIELD INTERNATIONAL AIRPORT, GA US'][['DATE','ELEVATION', 'AWND', 'WDF2', 'TMAX', 'TMIN']]\n",
    "pasadena = file2.loc[file2['NAME'] == 'BURBANK GLENDALE PASADENA AIRPORT, CA US'][['DATE','ELEVATION', 'AWND', 'WDF2', 'TMAX', 'TMIN']]\n",
    "portlant = file2.loc[file2['NAME'] == 'PORTLAND TROUTDALE AIRPORT, OR US'][['DATE','ELEVATION', 'AWND', 'WDF2', 'TMAX', 'TMIN']]\n",
    "oklahoma = file2.loc[file2['NAME'] == 'GUTHRIE MUNICIPAL AIRPORT, OK US'][['DATE','ELEVATION', 'AWND', 'WDF2', 'TMAX', 'TMIN']]\n",
    "minneapolis = file2.loc[file2['NAME'] == 'MINNEAPOLIS ST PAUL INTERNATIONAL AIRPORT, MN US'][['DATE','ELEVATION', 'AWND', 'WDF2', 'TMAX', 'TMIN']]\n",
    "denver = file2.loc[file2['NAME'] == 'DENVER CENTENNIAL AIRPORT, CO US'][['DATE','ELEVATION', 'AWND', 'WDF2', 'TMAX', 'TMIN']]\n",
    "kanzas = file2.loc[file2['NAME'] == 'OLATHE JOHNSON CO EXECUTIVE AIRPORT, KS US'][['DATE','ELEVATION', 'AWND', 'WDF2', 'TMAX', 'TMIN']]\n",
    "san_antonio = file2.loc[file2['NAME'] == 'SAN ANTONIO INTERNATIONAL AIRPORT, TX US'][['DATE','ELEVATION', 'AWND', 'WDF2', 'TMAX', 'TMIN']]\n",
    "san_francisco = file2.loc[file2['NAME'] == 'SAN FRANCISCO INTERNATIONAL AIRPORT, CA US'][['DATE','ELEVATION', 'AWND', 'WDF2', 'TMAX', 'TMIN']]"
   ]
  },
  {
   "cell_type": "markdown",
   "metadata": {},
   "source": [
    "Меняем названия колонок, чтобы потом объединять их в одну строчку по дате"
   ]
  },
  {
   "cell_type": "code",
   "execution_count": 128,
   "metadata": {},
   "outputs": [],
   "source": [
    "ny.columns = ['DATE', 'ELEVATION_NY', 'AWND_NY', 'WDF2_NY', 'TMAX_NY', 'TMIN_NY' ]\n",
    "washington.columns = ['DATE','ELEVATION_W', 'AWND_W', 'WDF2_W', 'TMAX_W', 'TMIN_W']\n",
    "chicago.columns = ['DATE','ELEVATION_C', 'AWND_C', 'WDF2_C', 'TMAX_C', 'TMIN_C']\n",
    "atlanta.columns = ['DATE','ELEVATION_A', 'AWND_A', 'WDF2_A', 'TMAX_A', 'TMIN_A']\n",
    "pasadena.columns = ['DATE', 'ELEVATION_PAS', 'AWND_PAS', 'WDF2_PAS', 'TMAX_PAS', 'TMIN_PAS']\n",
    "portlant.columns = ['DATE', 'ELEVATION_PORT', 'AWND_PORT', 'WDF2_PORT', 'TMAX_PORT', 'TMIN_PORT']\n",
    "oklahoma.columns= ['DATE', 'ELEVATION_OKL', 'AWND_OKL', 'WDF2_OKL', 'TMAX_OKL', 'TMIN_OKL']\n",
    "minneapolis.columns = ['DATE', 'ELEVATION_MINEAP', 'AWND_MINEAP', 'WDF2_MINEAP', 'TMAX_MINEAP', 'TMIN_MINEAP']\n",
    "denver.columns = ['DATE', 'ELEVATION_DENV', 'AWND_DENV', 'WDF2_DENV', 'TMAX_DENV', 'TMIN_DENV']\n",
    "kanzas.columns = ['DATE', 'ELEVATION_KZ', 'AWND_KZ', 'WDF2_KZ', 'TMAX_KZ', 'TMIN_KZ']\n",
    "san_antonio.columns = ['DATE', 'ELEVATION_ST_ANT', 'AWND_ST_ANT', 'WDF2_ST_ANT', 'TMAX_ST_ANT', 'TMIN_ST_ANT']\n",
    "san_francisco.columns = ['DATE', 'ELEVATION_ST_FR', 'AWND_ST_FR', 'WDF2_ST_FR', 'TMAX_ST_FR', 'TMIN_ST_FR']"
   ]
  },
  {
   "cell_type": "markdown",
   "metadata": {},
   "source": [
    "Устанавливаем дату как индекс для всех городов, чтобы потом объединить столбцы"
   ]
  },
  {
   "cell_type": "code",
   "execution_count": 129,
   "metadata": {},
   "outputs": [],
   "source": [
    "ny.set_index('DATE', inplace=True)\n",
    "washington.set_index('DATE', inplace=True)\n",
    "chicago.set_index('DATE', inplace=True)\n",
    "atlanta.set_index('DATE', inplace=True)\n",
    "pasadena.set_index('DATE', inplace=True)\n",
    "portlant.set_index('DATE', inplace=True)\n",
    "oklahoma.set_index('DATE', inplace=True)\n",
    "minneapolis.set_index('DATE', inplace=True)\n",
    "denver.set_index('DATE', inplace=True)\n",
    "kanzas.set_index('DATE', inplace=True)\n",
    "san_antonio.set_index('DATE', inplace=True)\n",
    "san_francisco.set_index('DATE', inplace=True)"
   ]
  },
  {
   "cell_type": "markdown",
   "metadata": {},
   "source": [
    "Объединяем 4 таблицы. В итоге получаем, что для каждой даты у нас есть значения по 4-м городам"
   ]
  },
  {
   "cell_type": "code",
   "execution_count": 130,
   "metadata": {},
   "outputs": [],
   "source": [
    "data = pd.concat([ny, washington, chicago, atlanta, pasadena,\n",
    "                 portlant, oklahoma, minneapolis, denver,\n",
    "                 kanzas, san_antonio, san_francisco], ignore_index=False, axis=1, sort=True)"
   ]
  },
  {
   "cell_type": "markdown",
   "metadata": {},
   "source": [
    "Смотрим есть ли NA в наших данных и сколько их в каждом столбце"
   ]
  },
  {
   "cell_type": "code",
   "execution_count": 131,
   "metadata": {},
   "outputs": [
    {
     "data": {
      "text/plain": [
       "ELEVATION_NY         0\n",
       "AWND_NY              0\n",
       "WDF2_NY              0\n",
       "TMAX_NY              0\n",
       "TMIN_NY              0\n",
       "ELEVATION_W          0\n",
       "AWND_W               0\n",
       "WDF2_W               0\n",
       "TMAX_W               0\n",
       "TMIN_W               0\n",
       "ELEVATION_C          2\n",
       "AWND_C               6\n",
       "WDF2_C               3\n",
       "TMAX_C               2\n",
       "TMIN_C               2\n",
       "ELEVATION_A          0\n",
       "AWND_A               0\n",
       "WDF2_A               0\n",
       "TMAX_A               0\n",
       "TMIN_A               0\n",
       "ELEVATION_PAS        1\n",
       "AWND_PAS             2\n",
       "WDF2_PAS            12\n",
       "TMAX_PAS             3\n",
       "TMIN_PAS             1\n",
       "ELEVATION_PORT       1\n",
       "AWND_PORT            2\n",
       "WDF2_PORT            1\n",
       "TMAX_PORT            3\n",
       "TMIN_PORT            2\n",
       "ELEVATION_OKL        0\n",
       "AWND_OKL            11\n",
       "WDF2_OKL             6\n",
       "TMAX_OKL            10\n",
       "TMIN_OKL            12\n",
       "ELEVATION_MINEAP     0\n",
       "AWND_MINEAP          0\n",
       "WDF2_MINEAP          0\n",
       "TMAX_MINEAP          0\n",
       "TMIN_MINEAP          0\n",
       "ELEVATION_DENV       1\n",
       "AWND_DENV            2\n",
       "WDF2_DENV            1\n",
       "TMAX_DENV            2\n",
       "TMIN_DENV            2\n",
       "ELEVATION_KZ         1\n",
       "AWND_KZ              2\n",
       "WDF2_KZ              1\n",
       "TMAX_KZ              4\n",
       "TMIN_KZ              7\n",
       "ELEVATION_ST_ANT     0\n",
       "AWND_ST_ANT          0\n",
       "WDF2_ST_ANT          0\n",
       "TMAX_ST_ANT          0\n",
       "TMIN_ST_ANT          0\n",
       "ELEVATION_ST_FR      0\n",
       "AWND_ST_FR           0\n",
       "WDF2_ST_FR           0\n",
       "TMAX_ST_FR           6\n",
       "TMIN_ST_FR           5\n",
       "dtype: int64"
      ]
     },
     "execution_count": 131,
     "metadata": {},
     "output_type": "execute_result"
    }
   ],
   "source": [
    "data.isna().sum()"
   ]
  },
  {
   "cell_type": "markdown",
   "metadata": {},
   "source": [
    "Т.к. есть очень небольшое к-во NA, то просто интерполируем их. На качестве сетки это не скажется"
   ]
  },
  {
   "cell_type": "code",
   "execution_count": 132,
   "metadata": {},
   "outputs": [],
   "source": [
    "data = data.interpolate()"
   ]
  },
  {
   "cell_type": "markdown",
   "metadata": {},
   "source": [
    "В итоге получаем, что для каждой даты у нас есть значения температуры, влажности, скорости и направления\n",
    "ветра для всех 4-х городов"
   ]
  },
  {
   "cell_type": "code",
   "execution_count": 133,
   "metadata": {},
   "outputs": [
    {
     "name": "stdout",
     "output_type": "stream",
     "text": [
      "(2922, 60)\n",
      "ELEVATION_NY           3.4\n",
      "AWND_NY                7.6\n",
      "WDF2_NY              320.0\n",
      "TMAX_NY               -7.1\n",
      "TMIN_NY              -13.2\n",
      "ELEVATION_W           47.5\n",
      "AWND_W                 3.3\n",
      "WDF2_W               300.0\n",
      "TMAX_W                -4.9\n",
      "TMIN_W               -16.0\n",
      "ELEVATION_C          186.5\n",
      "AWND_C                 4.7\n",
      "WDF2_C               300.0\n",
      "TMAX_C               -16.0\n",
      "TMIN_C               -21.6\n",
      "ELEVATION_A          307.8\n",
      "AWND_A                 5.9\n",
      "WDF2_A               340.0\n",
      "TMAX_A                -1.6\n",
      "TMIN_A                -7.7\n",
      "ELEVATION_PAS        225.9\n",
      "AWND_PAS               0.8\n",
      "WDF2_PAS             140.0\n",
      "TMAX_PAS              23.9\n",
      "TMIN_PAS               7.2\n",
      "ELEVATION_PORT         8.8\n",
      "AWND_PORT              9.2\n",
      "WDF2_PORT             70.0\n",
      "TMAX_PORT              6.1\n",
      "TMIN_PORT              3.3\n",
      "ELEVATION_OKL        325.5\n",
      "AWND_OKL               2.7\n",
      "WDF2_OKL              80.0\n",
      "TMAX_OKL              -6.6\n",
      "TMIN_OKL             -16.0\n",
      "ELEVATION_MINEAP     265.8\n",
      "AWND_MINEAP            3.1\n",
      "WDF2_MINEAP          320.0\n",
      "TMAX_MINEAP          -17.1\n",
      "TMIN_MINEAP          -25.5\n",
      "ELEVATION_DENV      1793.1\n",
      "AWND_DENV              1.6\n",
      "WDF2_DENV             10.0\n",
      "TMAX_DENV              2.8\n",
      "TMIN_DENV            -14.9\n",
      "ELEVATION_KZ         326.1\n",
      "AWND_KZ                2.8\n",
      "WDF2_KZ              350.0\n",
      "TMAX_KZ              -12.7\n",
      "TMIN_KZ              -22.7\n",
      "ELEVATION_ST_ANT     240.5\n",
      "AWND_ST_ANT            5.3\n",
      "WDF2_ST_ANT           10.0\n",
      "TMAX_ST_ANT           -0.5\n",
      "TMIN_ST_ANT           -3.2\n",
      "ELEVATION_ST_FR        2.4\n",
      "AWND_ST_FR             0.8\n",
      "WDF2_ST_FR           350.0\n",
      "TMAX_ST_FR            14.4\n",
      "TMIN_ST_FR             7.2\n",
      "Name: 2018-01-01, dtype: float64\n"
     ]
    }
   ],
   "source": [
    "print(data.shape)\n",
    "print(data.loc['2018-01-01'][:])"
   ]
  },
  {
   "cell_type": "code",
   "execution_count": 198,
   "metadata": {},
   "outputs": [],
   "source": [
    "data_norm, norma = normalize(data, norm='max', axis = 0, return_norm=True)\n",
    "data_norm = pd.DataFrame(data_norm)\n",
    "data_norm.columns = data.columns\n",
    "data_norm.index = data.index"
   ]
  },
  {
   "cell_type": "markdown",
   "metadata": {},
   "source": [
    "Здесь мы нормализовали данные и привели их обратно в читаемую структуру"
   ]
  },
  {
   "cell_type": "code",
   "execution_count": 141,
   "metadata": {},
   "outputs": [
    {
     "name": "stdout",
     "output_type": "stream",
     "text": [
      "ELEVATION_NY        1.000000\n",
      "AWND_NY             0.445860\n",
      "WDF2_NY             0.833333\n",
      "TMAX_NY             0.015000\n",
      "TMIN_NY            -0.203333\n",
      "ELEVATION_W         1.000000\n",
      "AWND_W              0.513043\n",
      "WDF2_W              0.805556\n",
      "TMAX_W              0.053528\n",
      "TMIN_W             -0.280576\n",
      "ELEVATION_C         1.000000\n",
      "AWND_C              0.336283\n",
      "WDF2_C              0.861111\n",
      "TMAX_C             -0.290000\n",
      "TMIN_C             -0.643110\n",
      "ELEVATION_A         1.000000\n",
      "AWND_A              0.563636\n",
      "WDF2_A              0.944444\n",
      "TMAX_A              0.107056\n",
      "TMIN_A             -0.107280\n",
      "ELEVATION_PAS       1.000000\n",
      "AWND_PAS            0.087379\n",
      "WDF2_PAS            0.500000\n",
      "TMAX_PAS            0.510965\n",
      "TMIN_PAS            0.219424\n",
      "ELEVATION_PORT      1.000000\n",
      "AWND_PORT           0.046980\n",
      "WDF2_PORT           0.750000\n",
      "TMAX_PORT           0.219212\n",
      "TMIN_PORT           0.208531\n",
      "ELEVATION_OKL       1.000000\n",
      "AWND_OKL            0.351852\n",
      "WDF2_OKL            0.527778\n",
      "TMAX_OKL            0.157895\n",
      "TMIN_OKL           -0.266881\n",
      "ELEVATION_MINEAP    1.000000\n",
      "AWND_MINEAP         0.190909\n",
      "WDF2_MINEAP         0.388889\n",
      "TMAX_MINEAP        -0.408629\n",
      "TMIN_MINEAP        -0.981618\n",
      "ELEVATION_DENV      1.000000\n",
      "AWND_DENV           0.509804\n",
      "WDF2_DENV           0.861111\n",
      "TMAX_DENV           0.159269\n",
      "TMIN_DENV          -0.160000\n",
      "ELEVATION_KZ        1.000000\n",
      "AWND_KZ             0.323810\n",
      "WDF2_KZ             0.444444\n",
      "TMAX_KZ            -0.048499\n",
      "TMIN_KZ            -0.486395\n",
      "ELEVATION_ST_ANT    1.000000\n",
      "AWND_ST_ANT         0.168224\n",
      "WDF2_ST_ANT         0.972222\n",
      "TMAX_ST_ANT         0.270208\n",
      "TMIN_ST_ANT        -0.100719\n",
      "ELEVATION_ST_FR     1.000000\n",
      "AWND_ST_FR          0.119048\n",
      "WDF2_ST_FR          0.777778\n",
      "TMAX_ST_FR          0.390000\n",
      "TMIN_ST_FR          0.274775\n",
      "Name: 2011-01-21, dtype: float64\n"
     ]
    }
   ],
   "source": [
    "print(data_norm.loc['2011-01-21'])"
   ]
  },
  {
   "cell_type": "code",
   "execution_count": 142,
   "metadata": {},
   "outputs": [],
   "source": [
    "train, test = train_test_split(data_norm, test_size = 0.15, random_state = None, shuffle=False)"
   ]
  },
  {
   "cell_type": "markdown",
   "metadata": {},
   "source": [
    "Делим на трейн и тест"
   ]
  },
  {
   "cell_type": "code",
   "execution_count": 225,
   "metadata": {},
   "outputs": [],
   "source": [
    "train_x = train[0:-1]\n",
    "train_y = train[1:][['TMIN_NY', 'TMIN_W', 'TMIN_C', 'TMIN_A', 'TMIN_PAS',\n",
    "                    'TMIN_PORT', 'TMIN_OKL', 'TMIN_MINEAP', 'TMIN_DENV',\n",
    "                    'TMIN_KZ', 'TMIN_ST_ANT', 'TMIN_ST_FR',\n",
    "                    'TMAX_NY', 'TMAX_W', 'TMAX_C', 'TMAX_A', 'TMAX_PAS',\n",
    "                    'TMAX_PORT', 'TMAX_OKL', 'TMAX_MINEAP', 'TMAX_DENV',\n",
    "                    'TMAX_KZ', 'TMAX_ST_ANT', 'TMAX_ST_FR']]"
   ]
  },
  {
   "cell_type": "markdown",
   "metadata": {},
   "source": [
    "Х[i] - все в дату t, Y[i]- минимальная температура в дату t+1"
   ]
  },
  {
   "cell_type": "code",
   "execution_count": 226,
   "metadata": {},
   "outputs": [],
   "source": [
    "test_x = test[0:-1]\n",
    "test_y = test[1:][['TMIN_NY', 'TMIN_W', 'TMIN_C', 'TMIN_A', 'TMIN_PAS',\n",
    "                    'TMIN_PORT', 'TMIN_OKL', 'TMIN_MINEAP', 'TMIN_DENV',\n",
    "                    'TMIN_KZ', 'TMIN_ST_ANT', 'TMIN_ST_FR',\n",
    "                  'TMAX_NY', 'TMAX_W', 'TMAX_C', 'TMAX_A', 'TMAX_PAS',\n",
    "                    'TMAX_PORT', 'TMAX_OKL', 'TMAX_MINEAP', 'TMAX_DENV',\n",
    "                    'TMAX_KZ', 'TMAX_ST_ANT', 'TMAX_ST_FR']]"
   ]
  },
  {
   "cell_type": "code",
   "execution_count": 552,
   "metadata": {},
   "outputs": [],
   "source": [
    "from keras.models import Sequential\n",
    "from keras.layers import Dense, Activation, Flatten, Dropout\n",
    "from keras import backend as K\n",
    "from keras.layers.normalization import BatchNormalization\n",
    "from keras.optimizers import SGD\n",
    "from keras.losses import mean_squared_error, mean_absolute_error\n",
    "import tensorflow as tf"
   ]
  },
  {
   "cell_type": "code",
   "execution_count": 553,
   "metadata": {},
   "outputs": [],
   "source": [
    "def r2_keras(y_true, y_pred):\n",
    "    SS_res =  K.sum(K.square(y_true - y_pred)) \n",
    "    SS_tot = K.sum(K.square(y_true - K.mean(y_true))) \n",
    "    return ( 1 - SS_res/(SS_tot + K.epsilon()) )"
   ]
  },
  {
   "cell_type": "code",
   "execution_count": 596,
   "metadata": {},
   "outputs": [
    {
     "name": "stdout",
     "output_type": "stream",
     "text": [
      "_________________________________________________________________\n",
      "Layer (type)                 Output Shape              Param #   \n",
      "=================================================================\n",
      "dense_1 (Dense)              (None, 100)               6100      \n",
      "_________________________________________________________________\n",
      "dense_2 (Dense)              (None, 100)               10100     \n",
      "_________________________________________________________________\n",
      "batch_normalization_1 (Batch (None, 100)               400       \n",
      "_________________________________________________________________\n",
      "dense_3 (Dense)              (None, 24)                2424      \n",
      "=================================================================\n",
      "Total params: 19,024\n",
      "Trainable params: 18,824\n",
      "Non-trainable params: 200\n",
      "_________________________________________________________________\n",
      "None\n"
     ]
    }
   ],
   "source": [
    "tf.reset_default_graph()  \n",
    "K.clear_session()\n",
    "model = Sequential()\n",
    "model.add(Dense(100, input_shape = (train_x.shape[1],)))\n",
    "model.add(Dense(100, activation = 'softmax'))\n",
    "model.add(BatchNormalization())\n",
    "model.add(Dense(24))\n",
    "model.compile(optimizer='nadam', loss=[mean_absolute_error], metrics=[r2_keras])\n",
    "print(model.summary())"
   ]
  },
  {
   "cell_type": "code",
   "execution_count": 597,
   "metadata": {
    "scrolled": false
   },
   "outputs": [
    {
     "name": "stdout",
     "output_type": "stream",
     "text": [
      "Train on 2482 samples, validate on 438 samples\n",
      "Epoch 1/100\n",
      "2482/2482 [==============================] - 1s 247us/step - loss: 0.1623 - r2_keras: 0.4225 - val_loss: 0.1073 - val_r2_keras: 0.3420\n",
      "Epoch 2/100\n",
      "2482/2482 [==============================] - 0s 110us/step - loss: 0.0847 - r2_keras: 0.8726 - val_loss: 0.0856 - val_r2_keras: 0.6173\n",
      "Epoch 3/100\n",
      "2482/2482 [==============================] - 0s 110us/step - loss: 0.0792 - r2_keras: 0.8879 - val_loss: 0.0868 - val_r2_keras: 0.5802\n",
      "Epoch 4/100\n",
      "2482/2482 [==============================] - 0s 82us/step - loss: 0.0787 - r2_keras: 0.8890 - val_loss: 0.0827 - val_r2_keras: 0.6687\n",
      "Epoch 5/100\n",
      "2482/2482 [==============================] - 0s 77us/step - loss: 0.0814 - r2_keras: 0.8792 - val_loss: 0.0868 - val_r2_keras: 0.6169\n",
      "Epoch 6/100\n",
      "2482/2482 [==============================] - 0s 76us/step - loss: 0.0787 - r2_keras: 0.8834 - val_loss: 0.0826 - val_r2_keras: 0.6390\n",
      "Epoch 7/100\n",
      "2482/2482 [==============================] - 0s 71us/step - loss: 0.0817 - r2_keras: 0.8774 - val_loss: 0.0842 - val_r2_keras: 0.6224\n",
      "Epoch 8/100\n",
      "2482/2482 [==============================] - 0s 70us/step - loss: 0.0783 - r2_keras: 0.8894 - val_loss: 0.0778 - val_r2_keras: 0.6785\n",
      "Epoch 9/100\n",
      "2482/2482 [==============================] - 0s 84us/step - loss: 0.0790 - r2_keras: 0.8841 - val_loss: 0.0777 - val_r2_keras: 0.6992\n",
      "Epoch 10/100\n",
      "2482/2482 [==============================] - 0s 79us/step - loss: 0.0765 - r2_keras: 0.8934 - val_loss: 0.0795 - val_r2_keras: 0.6554\n",
      "Epoch 11/100\n",
      "2482/2482 [==============================] - 0s 79us/step - loss: 0.0790 - r2_keras: 0.8869 - val_loss: 0.0794 - val_r2_keras: 0.6853\n",
      "Epoch 12/100\n",
      "2482/2482 [==============================] - 0s 78us/step - loss: 0.0794 - r2_keras: 0.8845 - val_loss: 0.0758 - val_r2_keras: 0.7079\n",
      "Epoch 13/100\n",
      "2482/2482 [==============================] - 0s 77us/step - loss: 0.0769 - r2_keras: 0.8918 - val_loss: 0.0749 - val_r2_keras: 0.7304\n",
      "Epoch 14/100\n",
      "2482/2482 [==============================] - 0s 72us/step - loss: 0.0775 - r2_keras: 0.8907 - val_loss: 0.0785 - val_r2_keras: 0.6867\n",
      "Epoch 15/100\n",
      "2482/2482 [==============================] - 0s 73us/step - loss: 0.0761 - r2_keras: 0.8938 - val_loss: 0.0781 - val_r2_keras: 0.6913\n",
      "Epoch 16/100\n",
      "2482/2482 [==============================] - 0s 80us/step - loss: 0.0769 - r2_keras: 0.8912 - val_loss: 0.0760 - val_r2_keras: 0.7046\n",
      "Epoch 17/100\n",
      "2482/2482 [==============================] - 0s 80us/step - loss: 0.0752 - r2_keras: 0.8959 - val_loss: 0.0777 - val_r2_keras: 0.6781\n",
      "Epoch 18/100\n",
      "2482/2482 [==============================] - 0s 79us/step - loss: 0.0777 - r2_keras: 0.8859 - val_loss: 0.0733 - val_r2_keras: 0.7262\n",
      "Epoch 19/100\n",
      "2482/2482 [==============================] - 0s 77us/step - loss: 0.0734 - r2_keras: 0.9013 - val_loss: 0.0782 - val_r2_keras: 0.6930\n",
      "Epoch 20/100\n",
      "2482/2482 [==============================] - 0s 73us/step - loss: 0.0774 - r2_keras: 0.8877 - val_loss: 0.0789 - val_r2_keras: 0.6449\n",
      "Epoch 21/100\n",
      "2482/2482 [==============================] - 0s 70us/step - loss: 0.0795 - r2_keras: 0.8834 - val_loss: 0.0740 - val_r2_keras: 0.7327\n",
      "Epoch 22/100\n",
      "2482/2482 [==============================] - 0s 78us/step - loss: 0.0755 - r2_keras: 0.8960 - val_loss: 0.0730 - val_r2_keras: 0.7256\n",
      "Epoch 23/100\n",
      "2482/2482 [==============================] - 0s 80us/step - loss: 0.0768 - r2_keras: 0.8908 - val_loss: 0.0810 - val_r2_keras: 0.6246\n",
      "Epoch 24/100\n",
      "2482/2482 [==============================] - 0s 76us/step - loss: 0.0764 - r2_keras: 0.8919 - val_loss: 0.0761 - val_r2_keras: 0.7136\n",
      "Epoch 25/100\n",
      "2482/2482 [==============================] - 0s 77us/step - loss: 0.0750 - r2_keras: 0.8961 - val_loss: 0.0731 - val_r2_keras: 0.7248\n",
      "Epoch 26/100\n",
      "2482/2482 [==============================] - 0s 75us/step - loss: 0.0774 - r2_keras: 0.8880 - val_loss: 0.0731 - val_r2_keras: 0.7307\n",
      "Epoch 27/100\n",
      "2482/2482 [==============================] - 0s 72us/step - loss: 0.0774 - r2_keras: 0.8883 - val_loss: 0.0769 - val_r2_keras: 0.7009\n",
      "Epoch 28/100\n",
      "2482/2482 [==============================] - 0s 71us/step - loss: 0.0741 - r2_keras: 0.8996 - val_loss: 0.0720 - val_r2_keras: 0.7432\n",
      "Epoch 29/100\n",
      "2482/2482 [==============================] - 0s 80us/step - loss: 0.0764 - r2_keras: 0.8904 - val_loss: 0.0710 - val_r2_keras: 0.7437\n",
      "Epoch 30/100\n",
      "2482/2482 [==============================] - 0s 76us/step - loss: 0.0760 - r2_keras: 0.8915 - val_loss: 0.0826 - val_r2_keras: 0.6542\n",
      "Epoch 31/100\n",
      "2482/2482 [==============================] - 0s 78us/step - loss: 0.0755 - r2_keras: 0.8907 - val_loss: 0.0710 - val_r2_keras: 0.7525\n",
      "Epoch 32/100\n",
      "2482/2482 [==============================] - 0s 84us/step - loss: 0.0723 - r2_keras: 0.9046 - val_loss: 0.0749 - val_r2_keras: 0.7189\n",
      "Epoch 33/100\n",
      "2482/2482 [==============================] - 0s 72us/step - loss: 0.0753 - r2_keras: 0.8938 - val_loss: 0.0765 - val_r2_keras: 0.6901\n",
      "Epoch 34/100\n",
      "2482/2482 [==============================] - 0s 70us/step - loss: 0.0748 - r2_keras: 0.8968 - val_loss: 0.0784 - val_r2_keras: 0.6744\n",
      "Epoch 35/100\n",
      "2482/2482 [==============================] - 0s 80us/step - loss: 0.0731 - r2_keras: 0.9009 - val_loss: 0.0719 - val_r2_keras: 0.7417\n",
      "Epoch 36/100\n",
      "2482/2482 [==============================] - 0s 82us/step - loss: 0.0802 - r2_keras: 0.8821 - val_loss: 0.0731 - val_r2_keras: 0.7277\n",
      "Epoch 37/100\n",
      "2482/2482 [==============================] - 0s 85us/step - loss: 0.0733 - r2_keras: 0.9008 - val_loss: 0.0735 - val_r2_keras: 0.7230\n",
      "Epoch 38/100\n",
      "2482/2482 [==============================] - 0s 68us/step - loss: 0.0776 - r2_keras: 0.8899 - val_loss: 0.0766 - val_r2_keras: 0.6877\n",
      "Epoch 39/100\n",
      "2482/2482 [==============================] - 0s 65us/step - loss: 0.0735 - r2_keras: 0.9017 - val_loss: 0.0703 - val_r2_keras: 0.7565\n",
      "Epoch 40/100\n",
      "2482/2482 [==============================] - 0s 67us/step - loss: 0.0783 - r2_keras: 0.8837 - val_loss: 0.0732 - val_r2_keras: 0.7277\n",
      "Epoch 41/100\n",
      "2482/2482 [==============================] - 0s 66us/step - loss: 0.0736 - r2_keras: 0.9000 - val_loss: 0.0714 - val_r2_keras: 0.7402\n",
      "Epoch 42/100\n",
      "2482/2482 [==============================] - 0s 67us/step - loss: 0.0769 - r2_keras: 0.8904 - val_loss: 0.0740 - val_r2_keras: 0.7280\n",
      "Epoch 43/100\n",
      "2482/2482 [==============================] - 0s 66us/step - loss: 0.0751 - r2_keras: 0.8947 - val_loss: 0.0770 - val_r2_keras: 0.6931\n",
      "Epoch 44/100\n",
      "2482/2482 [==============================] - 0s 66us/step - loss: 0.0743 - r2_keras: 0.8984 - val_loss: 0.0721 - val_r2_keras: 0.7409\n",
      "Epoch 45/100\n",
      "2482/2482 [==============================] - 0s 68us/step - loss: 0.0731 - r2_keras: 0.9019 - val_loss: 0.0711 - val_r2_keras: 0.7456\n",
      "Epoch 46/100\n",
      "2482/2482 [==============================] - 0s 66us/step - loss: 0.0763 - r2_keras: 0.8933 - val_loss: 0.0711 - val_r2_keras: 0.7377\n",
      "Epoch 47/100\n",
      "2482/2482 [==============================] - 0s 64us/step - loss: 0.0724 - r2_keras: 0.9020 - val_loss: 0.0715 - val_r2_keras: 0.7381\n",
      "Epoch 48/100\n",
      "2482/2482 [==============================] - 0s 66us/step - loss: 0.0738 - r2_keras: 0.8994 - val_loss: 0.0770 - val_r2_keras: 0.6963\n",
      "Epoch 49/100\n",
      "2482/2482 [==============================] - 0s 63us/step - loss: 0.0755 - r2_keras: 0.8945 - val_loss: 0.0760 - val_r2_keras: 0.7244\n",
      "Epoch 50/100\n",
      "2482/2482 [==============================] - 0s 66us/step - loss: 0.0747 - r2_keras: 0.8922 - val_loss: 0.0703 - val_r2_keras: 0.7523\n",
      "Epoch 51/100\n",
      "2482/2482 [==============================] - 0s 71us/step - loss: 0.0736 - r2_keras: 0.8993 - val_loss: 0.0691 - val_r2_keras: 0.7537\n",
      "Epoch 52/100\n",
      "2482/2482 [==============================] - 0s 69us/step - loss: 0.0745 - r2_keras: 0.8972 - val_loss: 0.0738 - val_r2_keras: 0.7208\n",
      "Epoch 53/100\n",
      "2482/2482 [==============================] - 0s 71us/step - loss: 0.0759 - r2_keras: 0.8929 - val_loss: 0.0726 - val_r2_keras: 0.7300\n",
      "Epoch 54/100\n",
      "2482/2482 [==============================] - 0s 73us/step - loss: 0.0719 - r2_keras: 0.9034 - val_loss: 0.0713 - val_r2_keras: 0.7487\n",
      "Epoch 55/100\n",
      "2482/2482 [==============================] - 0s 64us/step - loss: 0.0756 - r2_keras: 0.8942 - val_loss: 0.0721 - val_r2_keras: 0.7229\n",
      "Epoch 56/100\n"
     ]
    },
    {
     "name": "stdout",
     "output_type": "stream",
     "text": [
      "2482/2482 [==============================] - 0s 66us/step - loss: 0.0767 - r2_keras: 0.8887 - val_loss: 0.0737 - val_r2_keras: 0.7222\n",
      "Epoch 57/100\n",
      "2482/2482 [==============================] - 0s 64us/step - loss: 0.0727 - r2_keras: 0.9031 - val_loss: 0.0753 - val_r2_keras: 0.7246\n",
      "Epoch 58/100\n",
      "2482/2482 [==============================] - 0s 65us/step - loss: 0.0738 - r2_keras: 0.8999 - val_loss: 0.0709 - val_r2_keras: 0.7438\n",
      "Epoch 59/100\n",
      "2482/2482 [==============================] - 0s 64us/step - loss: 0.0726 - r2_keras: 0.9024 - val_loss: 0.0708 - val_r2_keras: 0.7454\n",
      "Epoch 60/100\n",
      "2482/2482 [==============================] - 0s 66us/step - loss: 0.0749 - r2_keras: 0.8972 - val_loss: 0.0688 - val_r2_keras: 0.7635\n",
      "Epoch 61/100\n",
      "2482/2482 [==============================] - 0s 69us/step - loss: 0.0730 - r2_keras: 0.9011 - val_loss: 0.0707 - val_r2_keras: 0.7417\n",
      "Epoch 62/100\n",
      "2482/2482 [==============================] - 0s 68us/step - loss: 0.0739 - r2_keras: 0.8954 - val_loss: 0.0699 - val_r2_keras: 0.7534\n",
      "Epoch 63/100\n",
      "2482/2482 [==============================] - 0s 66us/step - loss: 0.0730 - r2_keras: 0.9018 - val_loss: 0.0710 - val_r2_keras: 0.7490\n",
      "Epoch 64/100\n",
      "2482/2482 [==============================] - 0s 67us/step - loss: 0.0709 - r2_keras: 0.9072 - val_loss: 0.0707 - val_r2_keras: 0.7418\n",
      "Epoch 65/100\n",
      "2482/2482 [==============================] - 0s 66us/step - loss: 0.0731 - r2_keras: 0.9011 - val_loss: 0.0774 - val_r2_keras: 0.6893\n",
      "Epoch 66/100\n",
      "2482/2482 [==============================] - 0s 67us/step - loss: 0.0710 - r2_keras: 0.9055 - val_loss: 0.0686 - val_r2_keras: 0.7618\n",
      "Epoch 67/100\n",
      "2482/2482 [==============================] - 0s 64us/step - loss: 0.0716 - r2_keras: 0.9026 - val_loss: 0.0713 - val_r2_keras: 0.7416\n",
      "Epoch 68/100\n",
      "2482/2482 [==============================] - 0s 69us/step - loss: 0.0715 - r2_keras: 0.9063 - val_loss: 0.0709 - val_r2_keras: 0.7418\n",
      "Epoch 69/100\n",
      "2482/2482 [==============================] - 0s 65us/step - loss: 0.0737 - r2_keras: 0.8970 - val_loss: 0.0734 - val_r2_keras: 0.7188\n",
      "Epoch 70/100\n",
      "2482/2482 [==============================] - 0s 67us/step - loss: 0.0762 - r2_keras: 0.8941 - val_loss: 0.0706 - val_r2_keras: 0.7490\n",
      "Epoch 71/100\n",
      "2482/2482 [==============================] - 0s 69us/step - loss: 0.0716 - r2_keras: 0.9054 - val_loss: 0.0716 - val_r2_keras: 0.7403\n",
      "Epoch 72/100\n",
      "2482/2482 [==============================] - 0s 66us/step - loss: 0.0721 - r2_keras: 0.9046 - val_loss: 0.0713 - val_r2_keras: 0.7404\n",
      "Epoch 73/100\n",
      "2482/2482 [==============================] - 0s 66us/step - loss: 0.0738 - r2_keras: 0.8942 - val_loss: 0.0703 - val_r2_keras: 0.7494\n",
      "Epoch 74/100\n",
      "2482/2482 [==============================] - 0s 65us/step - loss: 0.0703 - r2_keras: 0.9089 - val_loss: 0.0693 - val_r2_keras: 0.7588\n",
      "Epoch 75/100\n",
      "2482/2482 [==============================] - 0s 67us/step - loss: 0.0720 - r2_keras: 0.9026 - val_loss: 0.0710 - val_r2_keras: 0.7471\n",
      "Epoch 76/100\n",
      "2482/2482 [==============================] - 0s 64us/step - loss: 0.0741 - r2_keras: 0.8975 - val_loss: 0.0695 - val_r2_keras: 0.7478\n",
      "Epoch 77/100\n",
      "2482/2482 [==============================] - 0s 66us/step - loss: 0.0746 - r2_keras: 0.8965 - val_loss: 0.0711 - val_r2_keras: 0.7432\n",
      "Epoch 78/100\n",
      "2482/2482 [==============================] - 0s 68us/step - loss: 0.0745 - r2_keras: 0.8970 - val_loss: 0.0693 - val_r2_keras: 0.7515\n",
      "Epoch 79/100\n",
      "2482/2482 [==============================] - 0s 66us/step - loss: 0.0721 - r2_keras: 0.9024 - val_loss: 0.0707 - val_r2_keras: 0.7395\n",
      "Epoch 80/100\n",
      "2482/2482 [==============================] - 0s 67us/step - loss: 0.0702 - r2_keras: 0.9071 - val_loss: 0.0703 - val_r2_keras: 0.7518\n",
      "Epoch 81/100\n",
      "2482/2482 [==============================] - 0s 69us/step - loss: 0.0728 - r2_keras: 0.9007 - val_loss: 0.0706 - val_r2_keras: 0.7482\n",
      "Epoch 82/100\n",
      "2482/2482 [==============================] - 0s 70us/step - loss: 0.0726 - r2_keras: 0.9031 - val_loss: 0.0692 - val_r2_keras: 0.7548\n",
      "Epoch 83/100\n",
      "2482/2482 [==============================] - 0s 63us/step - loss: 0.0727 - r2_keras: 0.9034 - val_loss: 0.0715 - val_r2_keras: 0.7430\n",
      "Epoch 84/100\n",
      "2482/2482 [==============================] - 0s 66us/step - loss: 0.0708 - r2_keras: 0.9067 - val_loss: 0.0709 - val_r2_keras: 0.7437\n",
      "Epoch 85/100\n",
      "2482/2482 [==============================] - 0s 69us/step - loss: 0.0709 - r2_keras: 0.9072 - val_loss: 0.0691 - val_r2_keras: 0.7608\n",
      "Epoch 86/100\n",
      "2482/2482 [==============================] - 0s 67us/step - loss: 0.0731 - r2_keras: 0.9015 - val_loss: 0.0720 - val_r2_keras: 0.7269\n",
      "Epoch 87/100\n",
      "2482/2482 [==============================] - 0s 64us/step - loss: 0.0688 - r2_keras: 0.9124 - val_loss: 0.0698 - val_r2_keras: 0.7520\n",
      "Epoch 88/100\n",
      "2482/2482 [==============================] - 0s 65us/step - loss: 0.0719 - r2_keras: 0.9041 - val_loss: 0.0723 - val_r2_keras: 0.7266\n",
      "Epoch 89/100\n",
      "2482/2482 [==============================] - 0s 66us/step - loss: 0.0713 - r2_keras: 0.9073 - val_loss: 0.0702 - val_r2_keras: 0.7515\n",
      "Epoch 90/100\n",
      "2482/2482 [==============================] - 0s 69us/step - loss: 0.0716 - r2_keras: 0.9058 - val_loss: 0.0686 - val_r2_keras: 0.7651\n",
      "Epoch 91/100\n",
      "2482/2482 [==============================] - 0s 62us/step - loss: 0.0720 - r2_keras: 0.9029 - val_loss: 0.0686 - val_r2_keras: 0.7589\n",
      "Epoch 92/100\n",
      "2482/2482 [==============================] - 0s 65us/step - loss: 0.0702 - r2_keras: 0.9088 - val_loss: 0.0684 - val_r2_keras: 0.7663\n",
      "Epoch 93/100\n",
      "2482/2482 [==============================] - 0s 65us/step - loss: 0.0725 - r2_keras: 0.9017 - val_loss: 0.0694 - val_r2_keras: 0.7532\n",
      "Epoch 94/100\n",
      "2482/2482 [==============================] - 0s 64us/step - loss: 0.0751 - r2_keras: 0.8970 - val_loss: 0.0699 - val_r2_keras: 0.7551\n",
      "Epoch 95/100\n",
      "2482/2482 [==============================] - 0s 65us/step - loss: 0.0724 - r2_keras: 0.9029 - val_loss: 0.0705 - val_r2_keras: 0.7502\n",
      "Epoch 96/100\n",
      "2482/2482 [==============================] - 0s 66us/step - loss: 0.0690 - r2_keras: 0.9122 - val_loss: 0.0692 - val_r2_keras: 0.7508\n",
      "Epoch 97/100\n",
      "2482/2482 [==============================] - 0s 65us/step - loss: 0.0704 - r2_keras: 0.9068 - val_loss: 0.0715 - val_r2_keras: 0.7327\n",
      "Epoch 98/100\n",
      "2482/2482 [==============================] - 0s 68us/step - loss: 0.0708 - r2_keras: 0.9070 - val_loss: 0.0697 - val_r2_keras: 0.7516\n",
      "Epoch 99/100\n",
      "2482/2482 [==============================] - 0s 63us/step - loss: 0.0704 - r2_keras: 0.9086 - val_loss: 0.0705 - val_r2_keras: 0.7474\n",
      "Epoch 100/100\n",
      "2482/2482 [==============================] - 0s 66us/step - loss: 0.0735 - r2_keras: 0.8950 - val_loss: 0.0688 - val_r2_keras: 0.7646\n"
     ]
    },
    {
     "data": {
      "text/plain": [
       "<keras.callbacks.History at 0x7f9a685aae48>"
      ]
     },
     "execution_count": 597,
     "metadata": {},
     "output_type": "execute_result"
    }
   ],
   "source": [
    "model.fit(train_x, train_y, batch_size = 32, epochs=100,  verbose=1, validation_data=(test_x, test_y))"
   ]
  },
  {
   "cell_type": "code",
   "execution_count": 598,
   "metadata": {},
   "outputs": [],
   "source": [
    "predicted = model.predict(test_x[0:300])"
   ]
  },
  {
   "cell_type": "code",
   "execution_count": 599,
   "metadata": {},
   "outputs": [],
   "source": [
    "real = np.asarray(test_y[0:300])\n"
   ]
  },
  {
   "cell_type": "code",
   "execution_count": 600,
   "metadata": {},
   "outputs": [],
   "source": [
    "norma_df = pd.DataFrame(norma).T\n",
    "norma_df.columns = data.columns"
   ]
  },
  {
   "cell_type": "code",
   "execution_count": 601,
   "metadata": {},
   "outputs": [],
   "source": [
    "columns = ['TMIN_NY', 'TMIN_W', 'TMIN_C', 'TMIN_A', 'TMIN_PAS',\n",
    "                    'TMIN_PORT', 'TMIN_OKL', 'TMIN_MINEAP', 'TMIN_DENV',\n",
    "                    'TMIN_KZ', 'TMIN_ST_ANT', 'TMIN_ST_FR',\n",
    "                    'TMAX_NY', 'TMAX_W', 'TMAX_C', 'TMAX_A', 'TMAX_PAS',\n",
    "                    'TMAX_PORT', 'TMAX_OKL', 'TMAX_MINEAP', 'TMAX_DENV',\n",
    "                    'TMAX_KZ', 'TMAX_ST_ANT', 'TMAX_ST_FR']\n",
    "norma_df_y = norma_df[:][columns]"
   ]
  },
  {
   "cell_type": "code",
   "execution_count": 602,
   "metadata": {},
   "outputs": [],
   "source": [
    "diff = [predicted[i] * norma_df_y - real[i] * norma_df_y for i in range(0, predicted.shape[0])]\n",
    "diff = pd.concat(diff)"
   ]
  },
  {
   "cell_type": "code",
   "execution_count": 603,
   "metadata": {},
   "outputs": [],
   "source": [
    "import matplotlib.pyplot as plt"
   ]
  },
  {
   "cell_type": "code",
   "execution_count": 604,
   "metadata": {},
   "outputs": [
    {
     "data": {
      "text/plain": [
       "[<matplotlib.lines.Line2D at 0x7f9a46a24128>,\n",
       " <matplotlib.lines.Line2D at 0x7f9a46a24240>,\n",
       " <matplotlib.lines.Line2D at 0x7f9a46a24390>,\n",
       " <matplotlib.lines.Line2D at 0x7f9a46a244e0>,\n",
       " <matplotlib.lines.Line2D at 0x7f9a46a24630>,\n",
       " <matplotlib.lines.Line2D at 0x7f9a46a24780>,\n",
       " <matplotlib.lines.Line2D at 0x7f9a46a248d0>,\n",
       " <matplotlib.lines.Line2D at 0x7f9a46a24a20>,\n",
       " <matplotlib.lines.Line2D at 0x7f9a46a24b70>,\n",
       " <matplotlib.lines.Line2D at 0x7f9a46a24cc0>,\n",
       " <matplotlib.lines.Line2D at 0x7f9a46a68358>,\n",
       " <matplotlib.lines.Line2D at 0x7f9a46a24f28>,\n",
       " <matplotlib.lines.Line2D at 0x7f9a46a300b8>,\n",
       " <matplotlib.lines.Line2D at 0x7f9a46a30208>,\n",
       " <matplotlib.lines.Line2D at 0x7f9a46a30358>,\n",
       " <matplotlib.lines.Line2D at 0x7f9a46a304a8>,\n",
       " <matplotlib.lines.Line2D at 0x7f9a46a305f8>,\n",
       " <matplotlib.lines.Line2D at 0x7f9a46a30748>,\n",
       " <matplotlib.lines.Line2D at 0x7f9a46a30898>,\n",
       " <matplotlib.lines.Line2D at 0x7f9a46a309e8>,\n",
       " <matplotlib.lines.Line2D at 0x7f9a46a30b38>,\n",
       " <matplotlib.lines.Line2D at 0x7f9a46a30c88>,\n",
       " <matplotlib.lines.Line2D at 0x7f9a46a30dd8>,\n",
       " <matplotlib.lines.Line2D at 0x7f9a46a30f28>]"
      ]
     },
     "execution_count": 604,
     "metadata": {},
     "output_type": "execute_result"
    },
    {
     "data": {
      "image/png": "[encoded data removed]",
      "text/plain": [
       "<Figure size 432x288 with 1 Axes>"
      ]
     },
     "metadata": {
      "needs_background": "light"
     },
     "output_type": "display_data"
    }
   ],
   "source": [
    "plt.plot(range(0, diff[columns[:]][:].shape[0]),diff[columns[:]][:], '.')\n"
   ]
  },
  {
   "cell_type": "code",
   "execution_count": null,
   "metadata": {},
   "outputs": [],
   "source": []
  }
 ],
 "metadata": {
  "kernelspec": {
   "display_name": "Python 3",
   "language": "python",
   "name": "python3"
  },
  "language_info": {
   "codemirror_mode": {
    "name": "ipython",
    "version": 3
   },
   "file_extension": ".py",
   "mimetype": "text/x-python",
   "name": "python",
   "nbconvert_exporter": "python",
   "pygments_lexer": "ipython3",
   "version": "3.6.7"
  }
 },
 "nbformat": 4,
 "nbformat_minor": 2
}
