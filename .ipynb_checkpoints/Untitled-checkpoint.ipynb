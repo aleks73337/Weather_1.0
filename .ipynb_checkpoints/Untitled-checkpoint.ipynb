{
 "cells": [
  {
   "cell_type": "code",
   "execution_count": 2,
   "metadata": {},
   "outputs": [],
   "source": [
    "import pandas as pd\n",
    "import numpy as np\n",
    "import matplotlib.pyplot as mpl\n",
    "from sklearn.model_selection import train_test_split\n",
    "from sklearn.preprocessing import normalize"
   ]
  },
  {
   "cell_type": "code",
   "execution_count": 3,
   "metadata": {},
   "outputs": [],
   "source": [
    "ny = pd.read_csv('1722861.csv')\n",
    "file1 = pd.read_csv('1724614.csv') \n",
    "## В file1 сразу 3 поинта:\n",
    "## BALTIMORE WASHINGTON INTERNATIONAL AIRPORT, MD US\n",
    "## CHICAGO MIDWAY AIRPORT, IL US\n",
    "## ATLANTA HARTSFIELD INTERNATIONAL AIRPORT, GA US\n",
    "file2 = pd.read_csv('1724698.csv')\n",
    "## BURBANK GLENDALE PASADENA AIRPORT, CA US\n",
    "## PORTLAND TROUTDALE AIRPORT, OR US\n",
    "## GUTHRIE MUNICIPAL AIRPORT, OK US\n",
    "## MINNEAPOLIS ST PAUL INTERNATIONAL AIRPORT, MN US\n",
    "## DENVER CENTENNIAL AIRPORT, CO US\n",
    "## OLATHE JOHNSON CO EXECUTIVE AIRPORT, KS US\n",
    "## SAN ANTONIO INTERNATIONAL AIRPORT, TX US\n",
    "## SAN FRANCISCO INTERNATIONAL AIRPORT, CA US\n",
    "file3 = pd.read_csv('1733086.csv')"
   ]
  },
  {
   "cell_type": "code",
   "execution_count": 4,
   "metadata": {},
   "outputs": [
    {
     "data": {
      "text/plain": [
       "STATION                             USW00003981\n",
       "NAME         FREDERICK MUNICIPAL AIRPORT, OK US\n",
       "LATITUDE                                34.3444\n",
       "LONGITUDE                              -98.9831\n",
       "ELEVATION                                 382.5\n",
       "DATE                                 2017-03-02\n",
       "AWND                                        2.8\n",
       "PRCP                                          0\n",
       "TMAX                                       17.8\n",
       "TMIN                                         -1\n",
       "WDF2                                        180\n",
       "Name: 11000, dtype: object"
      ]
     },
     "execution_count": 4,
     "metadata": {},
     "output_type": "execute_result"
    }
   ],
   "source": [
    "file3.loc[11000]"
   ]
  },
  {
   "cell_type": "markdown",
   "metadata": {},
   "source": [
    "Здесь разделяем на города и берем только то, что нужно"
   ]
  },
  {
   "cell_type": "code",
   "execution_count": 5,
   "metadata": {},
   "outputs": [],
   "source": [
    "ny = ny.loc[ny['NAME'] == 'LA GUARDIA AIRPORT, NY US'][['DATE','ELEVATION', 'AWND', 'WDF2', 'TMAX', 'TMIN']]\n",
    "washington = file1.loc[file1['NAME'] == 'BALTIMORE WASHINGTON INTERNATIONAL AIRPORT, MD US'][['DATE','ELEVATION', 'AWND', 'WDF2', 'TMAX', 'TMIN']]\n",
    "chicago = file1.loc[file1['NAME'] == 'CHICAGO MIDWAY AIRPORT, IL US'][['DATE','ELEVATION', 'AWND', 'WDF2', 'TMAX', 'TMIN']]\n",
    "atlanta = file1.loc[file1['NAME'] == 'ATLANTA HARTSFIELD INTERNATIONAL AIRPORT, GA US'][['DATE','ELEVATION', 'AWND', 'WDF2', 'TMAX', 'TMIN']]\n",
    "pasadena = file2.loc[file2['NAME'] == 'BURBANK GLENDALE PASADENA AIRPORT, CA US'][['DATE','ELEVATION', 'AWND', 'WDF2', 'TMAX', 'TMIN']]\n",
    "portlant = file2.loc[file2['NAME'] == 'PORTLAND TROUTDALE AIRPORT, OR US'][['DATE','ELEVATION', 'AWND', 'WDF2', 'TMAX', 'TMIN']]\n",
    "oklahoma = file2.loc[file2['NAME'] == 'GUTHRIE MUNICIPAL AIRPORT, OK US'][['DATE','ELEVATION', 'AWND', 'WDF2', 'TMAX', 'TMIN']]\n",
    "minneapolis = file2.loc[file2['NAME'] == 'MINNEAPOLIS ST PAUL INTERNATIONAL AIRPORT, MN US'][['DATE','ELEVATION', 'AWND', 'WDF2', 'TMAX', 'TMIN']]\n",
    "denver = file2.loc[file2['NAME'] == 'DENVER CENTENNIAL AIRPORT, CO US'][['DATE','ELEVATION', 'AWND', 'WDF2', 'TMAX', 'TMIN']]\n",
    "kanzas = file2.loc[file2['NAME'] == 'OLATHE JOHNSON CO EXECUTIVE AIRPORT, KS US'][['DATE','ELEVATION', 'AWND', 'WDF2', 'TMAX', 'TMIN']]\n",
    "san_antonio = file2.loc[file2['NAME'] == 'SAN ANTONIO INTERNATIONAL AIRPORT, TX US'][['DATE','ELEVATION', 'AWND', 'WDF2', 'TMAX', 'TMIN']]\n",
    "san_francisco = file2.loc[file2['NAME'] == 'SAN FRANCISCO INTERNATIONAL AIRPORT, CA US'][['DATE','ELEVATION', 'AWND', 'WDF2', 'TMAX', 'TMIN']]\n",
    "GRAND_CANYON = file3.loc[file3['NAME'] == 'GRAND CANYON NATIONAL PARK AIRPORT, AZ US'][['DATE','ELEVATION', 'AWND', 'WDF2', 'TMAX', 'TMIN']]\n",
    "MOUNTAIN_HOME_BAXTER = file3.loc[file3['NAME'] == 'MOUNTAIN HOME BAXTER CO REGIONAL AIRPORT, AR US'][['DATE','ELEVATION', 'AWND', 'WDF2', 'TMAX', 'TMIN']]\n",
    "FREDERICK_MUNICIPAL = file3.loc[file3['NAME'] == 'FREDERICK MUNICIPAL AIRPORT, OK US'][['DATE','ELEVATION', 'AWND', 'WDF2', 'TMAX', 'TMIN']]\n"
   ]
  },
  {
   "cell_type": "markdown",
   "metadata": {},
   "source": [
    "Меняем названия колонок, чтобы потом объединять их в одну строчку по дате"
   ]
  },
  {
   "cell_type": "code",
   "execution_count": 6,
   "metadata": {},
   "outputs": [],
   "source": [
    "ny.columns = ['DATE', 'ELEVATION_NY', 'AWND_NY', 'WDF2_NY', 'TMAX_NY', 'TMIN_NY' ]\n",
    "washington.columns = ['DATE','ELEVATION_W', 'AWND_W', 'WDF2_W', 'TMAX_W', 'TMIN_W']\n",
    "chicago.columns = ['DATE','ELEVATION_C', 'AWND_C', 'WDF2_C', 'TMAX_C', 'TMIN_C']\n",
    "atlanta.columns = ['DATE','ELEVATION_A', 'AWND_A', 'WDF2_A', 'TMAX_A', 'TMIN_A']\n",
    "pasadena.columns = ['DATE', 'ELEVATION_PAS', 'AWND_PAS', 'WDF2_PAS', 'TMAX_PAS', 'TMIN_PAS']\n",
    "portlant.columns = ['DATE', 'ELEVATION_PORT', 'AWND_PORT', 'WDF2_PORT', 'TMAX_PORT', 'TMIN_PORT']\n",
    "oklahoma.columns= ['DATE', 'ELEVATION_OKL', 'AWND_OKL', 'WDF2_OKL', 'TMAX_OKL', 'TMIN_OKL']\n",
    "minneapolis.columns = ['DATE', 'ELEVATION_MINEAP', 'AWND_MINEAP', 'WDF2_MINEAP', 'TMAX_MINEAP', 'TMIN_MINEAP']\n",
    "denver.columns = ['DATE', 'ELEVATION_DENV', 'AWND_DENV', 'WDF2_DENV', 'TMAX_DENV', 'TMIN_DENV']\n",
    "kanzas.columns = ['DATE', 'ELEVATION_KZ', 'AWND_KZ', 'WDF2_KZ', 'TMAX_KZ', 'TMIN_KZ']\n",
    "san_antonio.columns = ['DATE', 'ELEVATION_ST_ANT', 'AWND_ST_ANT', 'WDF2_ST_ANT', 'TMAX_ST_ANT', 'TMIN_ST_ANT']\n",
    "san_francisco.columns = ['DATE', 'ELEVATION_ST_FR', 'AWND_ST_FR', 'WDF2_ST_FR', 'TMAX_ST_FR', 'TMIN_ST_FR']\n",
    "GRAND_CANYON.columns = ['DATE', 'ELEVATION_GR_CA', 'AWND_GR_CA', 'WDF2_GR_CA', 'TMAX_GR_CA', 'TMIN_GR_CA']\n",
    "MOUNTAIN_HOME_BAXTER.columns = ['DATE', 'ELEVATION_MT_BX', 'AWND_MT_BX', 'WDF2_MT_BX', 'TMAX_MT_BX', 'TMIN_MT_BX']\n",
    "FREDERICK_MUNICIPAL.columns = ['DATE', 'ELEVATION_FR_MU', 'AWND_FR_MU', 'WDF2_FR_MU', 'TMAX_FR_MU', 'TMIN_FR_MU']"
   ]
  },
  {
   "cell_type": "markdown",
   "metadata": {},
   "source": [
    "Устанавливаем дату как индекс для всех городов, чтобы потом объединить столбцы"
   ]
  },
  {
   "cell_type": "code",
   "execution_count": 7,
   "metadata": {},
   "outputs": [],
   "source": [
    "ny.set_index('DATE', inplace=True)\n",
    "washington.set_index('DATE', inplace=True)\n",
    "chicago.set_index('DATE', inplace=True)\n",
    "atlanta.set_index('DATE', inplace=True)\n",
    "pasadena.set_index('DATE', inplace=True)\n",
    "portlant.set_index('DATE', inplace=True)\n",
    "oklahoma.set_index('DATE', inplace=True)\n",
    "minneapolis.set_index('DATE', inplace=True)\n",
    "denver.set_index('DATE', inplace=True)\n",
    "kanzas.set_index('DATE', inplace=True)\n",
    "san_antonio.set_index('DATE', inplace=True)\n",
    "san_francisco.set_index('DATE', inplace=True)\n",
    "GRAND_CANYON.set_index('DATE', inplace=True)\n",
    "MOUNTAIN_HOME_BAXTER.set_index('DATE', inplace=True)\n",
    "FREDERICK_MUNICIPAL.set_index('DATE', inplace=True)"
   ]
  },
  {
   "cell_type": "markdown",
   "metadata": {},
   "source": [
    "Объединяем 4 таблицы. В итоге получаем, что для каждой даты у нас есть значения по 4-м городам"
   ]
  },
  {
   "cell_type": "code",
   "execution_count": 8,
   "metadata": {},
   "outputs": [],
   "source": [
    "data = pd.concat([ny, washington, chicago, atlanta, pasadena,\n",
    "                 portlant, oklahoma, minneapolis, denver,\n",
    "                 kanzas, san_antonio, san_francisco,\n",
    "                 GRAND_CANYON, \n",
    "                 MOUNTAIN_HOME_BAXTER, FREDERICK_MUNICIPAL], ignore_index=False, axis=1, sort=True)"
   ]
  },
  {
   "cell_type": "markdown",
   "metadata": {},
   "source": [
    "Смотрим есть ли NA в наших данных и сколько их в каждом столбце"
   ]
  },
  {
   "cell_type": "code",
   "execution_count": 9,
   "metadata": {},
   "outputs": [
    {
     "data": {
      "text/plain": [
       "ELEVATION_NY         0\n",
       "AWND_NY              0\n",
       "WDF2_NY              0\n",
       "TMAX_NY              0\n",
       "TMIN_NY              0\n",
       "ELEVATION_W          0\n",
       "AWND_W               0\n",
       "WDF2_W               0\n",
       "TMAX_W               0\n",
       "TMIN_W               0\n",
       "ELEVATION_C          2\n",
       "AWND_C               6\n",
       "WDF2_C               3\n",
       "TMAX_C               2\n",
       "TMIN_C               2\n",
       "ELEVATION_A          0\n",
       "AWND_A               0\n",
       "WDF2_A               0\n",
       "TMAX_A               0\n",
       "TMIN_A               0\n",
       "ELEVATION_PAS        1\n",
       "AWND_PAS             2\n",
       "WDF2_PAS            12\n",
       "TMAX_PAS             3\n",
       "TMIN_PAS             1\n",
       "ELEVATION_PORT       1\n",
       "AWND_PORT            2\n",
       "WDF2_PORT            1\n",
       "TMAX_PORT            3\n",
       "TMIN_PORT            2\n",
       "                    ..\n",
       "ELEVATION_KZ         1\n",
       "AWND_KZ              2\n",
       "WDF2_KZ              1\n",
       "TMAX_KZ              4\n",
       "TMIN_KZ              7\n",
       "ELEVATION_ST_ANT     0\n",
       "AWND_ST_ANT          0\n",
       "WDF2_ST_ANT          0\n",
       "TMAX_ST_ANT          0\n",
       "TMIN_ST_ANT          0\n",
       "ELEVATION_ST_FR      0\n",
       "AWND_ST_FR           0\n",
       "WDF2_ST_FR           0\n",
       "TMAX_ST_FR           6\n",
       "TMIN_ST_FR           5\n",
       "ELEVATION_GR_CA      1\n",
       "AWND_GR_CA          25\n",
       "WDF2_GR_CA          11\n",
       "TMAX_GR_CA          32\n",
       "TMIN_GR_CA          31\n",
       "ELEVATION_MT_BX      3\n",
       "AWND_MT_BX          20\n",
       "WDF2_MT_BX          19\n",
       "TMAX_MT_BX           9\n",
       "TMIN_MT_BX           9\n",
       "ELEVATION_FR_MU      6\n",
       "AWND_FR_MU          11\n",
       "WDF2_FR_MU          10\n",
       "TMAX_FR_MU          14\n",
       "TMIN_FR_MU          15\n",
       "Length: 75, dtype: int64"
      ]
     },
     "execution_count": 9,
     "metadata": {},
     "output_type": "execute_result"
    }
   ],
   "source": [
    "data.isna().sum()"
   ]
  },
  {
   "cell_type": "markdown",
   "metadata": {},
   "source": [
    "Т.к. есть очень небольшое к-во NA, то просто интерполируем их. На качестве сетки это не скажется"
   ]
  },
  {
   "cell_type": "code",
   "execution_count": 10,
   "metadata": {},
   "outputs": [],
   "source": [
    "data = data.interpolate()"
   ]
  },
  {
   "cell_type": "markdown",
   "metadata": {},
   "source": [
    "В итоге получаем, что для каждой даты у нас есть значения температуры, влажности, скорости и направления\n",
    "ветра для всех 4-х городов"
   ]
  },
  {
   "cell_type": "code",
   "execution_count": 11,
   "metadata": {},
   "outputs": [
    {
     "name": "stdout",
     "output_type": "stream",
     "text": [
      "(2922, 75)\n",
      "ELEVATION_NY           3.4\n",
      "AWND_NY                7.6\n",
      "WDF2_NY              320.0\n",
      "TMAX_NY               -7.1\n",
      "TMIN_NY              -13.2\n",
      "ELEVATION_W           47.5\n",
      "AWND_W                 3.3\n",
      "WDF2_W               300.0\n",
      "TMAX_W                -4.9\n",
      "TMIN_W               -16.0\n",
      "ELEVATION_C          186.5\n",
      "AWND_C                 4.7\n",
      "WDF2_C               300.0\n",
      "TMAX_C               -16.0\n",
      "TMIN_C               -21.6\n",
      "ELEVATION_A          307.8\n",
      "AWND_A                 5.9\n",
      "WDF2_A               340.0\n",
      "TMAX_A                -1.6\n",
      "TMIN_A                -7.7\n",
      "ELEVATION_PAS        225.9\n",
      "AWND_PAS               0.8\n",
      "WDF2_PAS             140.0\n",
      "TMAX_PAS              23.9\n",
      "TMIN_PAS               7.2\n",
      "ELEVATION_PORT         8.8\n",
      "AWND_PORT              9.2\n",
      "WDF2_PORT             70.0\n",
      "TMAX_PORT              6.1\n",
      "TMIN_PORT              3.3\n",
      "                     ...  \n",
      "ELEVATION_KZ         326.1\n",
      "AWND_KZ                2.8\n",
      "WDF2_KZ              350.0\n",
      "TMAX_KZ              -12.7\n",
      "TMIN_KZ              -22.7\n",
      "ELEVATION_ST_ANT     240.5\n",
      "AWND_ST_ANT            5.3\n",
      "WDF2_ST_ANT           10.0\n",
      "TMAX_ST_ANT           -0.5\n",
      "TMIN_ST_ANT           -3.2\n",
      "ELEVATION_ST_FR        2.4\n",
      "AWND_ST_FR             0.8\n",
      "WDF2_ST_FR           350.0\n",
      "TMAX_ST_FR            14.4\n",
      "TMIN_ST_FR             7.2\n",
      "ELEVATION_GR_CA     2013.5\n",
      "AWND_GR_CA             1.2\n",
      "WDF2_GR_CA           300.0\n",
      "TMAX_GR_CA            13.3\n",
      "TMIN_GR_CA           -12.1\n",
      "ELEVATION_MT_BX      282.9\n",
      "AWND_MT_BX             1.9\n",
      "WDF2_MT_BX           350.0\n",
      "TMAX_MT_BX            -7.1\n",
      "TMIN_MT_BX           -17.1\n",
      "ELEVATION_FR_MU      382.5\n",
      "AWND_FR_MU             4.1\n",
      "WDF2_FR_MU            10.0\n",
      "TMAX_FR_MU            -3.8\n",
      "TMIN_FR_MU           -13.2\n",
      "Name: 2018-01-01, Length: 75, dtype: float64\n"
     ]
    }
   ],
   "source": [
    "print(data.shape)\n",
    "print(data.loc['2018-01-01'][:])"
   ]
  },
  {
   "cell_type": "code",
   "execution_count": 12,
   "metadata": {},
   "outputs": [],
   "source": [
    "data_norm, norma = normalize(data, norm='max', axis = 0, return_norm=True)\n",
    "data_norm = pd.DataFrame(data_norm)\n",
    "data_norm.columns = data.columns\n",
    "data_norm.index = data.index"
   ]
  },
  {
   "cell_type": "markdown",
   "metadata": {},
   "source": [
    "Здесь мы нормализовали данные и привели их обратно в читаемую структуру"
   ]
  },
  {
   "cell_type": "code",
   "execution_count": 13,
   "metadata": {},
   "outputs": [
    {
     "name": "stdout",
     "output_type": "stream",
     "text": [
      "ELEVATION_NY        1.000000\n",
      "AWND_NY             0.445860\n",
      "WDF2_NY             0.833333\n",
      "TMAX_NY             0.015000\n",
      "TMIN_NY            -0.203333\n",
      "ELEVATION_W         1.000000\n",
      "AWND_W              0.513043\n",
      "WDF2_W              0.805556\n",
      "TMAX_W              0.053528\n",
      "TMIN_W             -0.280576\n",
      "ELEVATION_C         1.000000\n",
      "AWND_C              0.336283\n",
      "WDF2_C              0.861111\n",
      "TMAX_C             -0.290000\n",
      "TMIN_C             -0.643110\n",
      "ELEVATION_A         1.000000\n",
      "AWND_A              0.563636\n",
      "WDF2_A              0.944444\n",
      "TMAX_A              0.107056\n",
      "TMIN_A             -0.107280\n",
      "ELEVATION_PAS       1.000000\n",
      "AWND_PAS            0.087379\n",
      "WDF2_PAS            0.500000\n",
      "TMAX_PAS            0.510965\n",
      "TMIN_PAS            0.219424\n",
      "ELEVATION_PORT      1.000000\n",
      "AWND_PORT           0.046980\n",
      "WDF2_PORT           0.750000\n",
      "TMAX_PORT           0.219212\n",
      "TMIN_PORT           0.208531\n",
      "                      ...   \n",
      "ELEVATION_KZ        1.000000\n",
      "AWND_KZ             0.323810\n",
      "WDF2_KZ             0.444444\n",
      "TMAX_KZ            -0.048499\n",
      "TMIN_KZ            -0.486395\n",
      "ELEVATION_ST_ANT    1.000000\n",
      "AWND_ST_ANT         0.168224\n",
      "WDF2_ST_ANT         0.972222\n",
      "TMAX_ST_ANT         0.270208\n",
      "TMIN_ST_ANT        -0.100719\n",
      "ELEVATION_ST_FR     1.000000\n",
      "AWND_ST_FR          0.119048\n",
      "WDF2_ST_FR          0.777778\n",
      "TMAX_ST_FR          0.390000\n",
      "TMIN_ST_FR          0.274775\n",
      "ELEVATION_GR_CA     1.000000\n",
      "AWND_GR_CA          0.174312\n",
      "WDF2_GR_CA          0.194444\n",
      "TMAX_GR_CA          0.318801\n",
      "TMIN_GR_CA         -0.511628\n",
      "ELEVATION_MT_BX     1.000000\n",
      "AWND_MT_BX          0.166667\n",
      "WDF2_MT_BX          0.361111\n",
      "TMAX_MT_BX         -0.070175\n",
      "TMIN_MT_BX         -0.370787\n",
      "ELEVATION_FR_MU     1.000000\n",
      "AWND_FR_MU          0.196203\n",
      "WDF2_FR_MU          0.611111\n",
      "TMAX_FR_MU          0.197778\n",
      "TMIN_FR_MU         -0.319728\n",
      "Name: 2011-01-21, Length: 75, dtype: float64\n"
     ]
    }
   ],
   "source": [
    "print(data_norm.loc['2011-01-21'])"
   ]
  },
  {
   "cell_type": "code",
   "execution_count": 14,
   "metadata": {},
   "outputs": [],
   "source": [
    "train, test = train_test_split(data_norm, test_size = 0.15, random_state = None, shuffle=False)"
   ]
  },
  {
   "cell_type": "markdown",
   "metadata": {},
   "source": [
    "Делим на трейн и тест"
   ]
  },
  {
   "cell_type": "code",
   "execution_count": 16,
   "metadata": {},
   "outputs": [],
   "source": [
    "train_x = train[0:-1]\n",
    "train_y = train[1:][['TMIN_NY', 'TMIN_W', 'TMIN_C', 'TMIN_A', 'TMIN_PAS',\n",
    "                    'TMIN_PORT', 'TMIN_OKL', 'TMIN_MINEAP', 'TMIN_DENV',\n",
    "                    'TMIN_KZ', 'TMIN_ST_ANT', 'TMIN_ST_FR', 'TMIN_GR_CA',\n",
    "                    'TMIN_MT_BX', 'TMIN_FR_MU',\n",
    "                    'TMAX_NY', 'TMAX_W', 'TMAX_C', 'TMAX_A', 'TMAX_PAS',\n",
    "                    'TMAX_PORT', 'TMAX_OKL', 'TMAX_MINEAP', 'TMAX_DENV',\n",
    "                    'TMAX_KZ', 'TMAX_ST_ANT', 'TMAX_ST_FR', 'TMAX_GR_CA',\n",
    "                    'TMAX_MT_BX', 'TMAX_FR_MU',\n",
    "                    ]]"
   ]
  },
  {
   "cell_type": "markdown",
   "metadata": {},
   "source": [
    "Х[i] - все в дату t, Y[i]- минимальная температура в дату t+1"
   ]
  },
  {
   "cell_type": "code",
   "execution_count": 17,
   "metadata": {},
   "outputs": [],
   "source": [
    "test_x = test[0:-1]\n",
    "test_y = test[1:][['TMIN_NY', 'TMIN_W', 'TMIN_C', 'TMIN_A', 'TMIN_PAS',\n",
    "                    'TMIN_PORT', 'TMIN_OKL', 'TMIN_MINEAP', 'TMIN_DENV',\n",
    "                    'TMIN_KZ', 'TMIN_ST_ANT', 'TMIN_ST_FR', 'TMIN_GR_CA',\n",
    "                    'TMIN_MT_BX', 'TMIN_FR_MU',\n",
    "                    'TMAX_NY', 'TMAX_W', 'TMAX_C', 'TMAX_A', 'TMAX_PAS',\n",
    "                    'TMAX_PORT', 'TMAX_OKL', 'TMAX_MINEAP', 'TMAX_DENV',\n",
    "                    'TMAX_KZ', 'TMAX_ST_ANT', 'TMAX_ST_FR', 'TMAX_GR_CA',\n",
    "                    'TMAX_MT_BX', 'TMAX_FR_MU',\n",
    "                    ]]"
   ]
  },
  {
   "cell_type": "code",
   "execution_count": 18,
   "metadata": {},
   "outputs": [
    {
     "name": "stderr",
     "output_type": "stream",
     "text": [
      "Using TensorFlow backend.\n"
     ]
    }
   ],
   "source": [
    "from keras.models import Sequential\n",
    "from keras.layers import Dense, Activation, Flatten, Dropout\n",
    "from keras import backend as K\n",
    "from keras.layers.normalization import BatchNormalization\n",
    "from keras.optimizers import SGD\n",
    "from keras.losses import mean_squared_error, mean_absolute_error\n",
    "import tensorflow as tf"
   ]
  },
  {
   "cell_type": "code",
   "execution_count": 19,
   "metadata": {},
   "outputs": [],
   "source": [
    "def r2_keras(y_true, y_pred):\n",
    "    SS_res =  K.sum(K.square(y_true - y_pred)) \n",
    "    SS_tot = K.sum(K.square(y_true - K.mean(y_true))) \n",
    "    return ( 1 - SS_res/(SS_tot + K.epsilon()) )"
   ]
  },
  {
   "cell_type": "code",
   "execution_count": 22,
   "metadata": {},
   "outputs": [
    {
     "name": "stdout",
     "output_type": "stream",
     "text": [
      "_________________________________________________________________\n",
      "Layer (type)                 Output Shape              Param #   \n",
      "=================================================================\n",
      "dense_1 (Dense)              (None, 100)               7600      \n",
      "_________________________________________________________________\n",
      "dense_2 (Dense)              (None, 100)               10100     \n",
      "_________________________________________________________________\n",
      "dropout_1 (Dropout)          (None, 100)               0         \n",
      "_________________________________________________________________\n",
      "dense_3 (Dense)              (None, 50)                5050      \n",
      "_________________________________________________________________\n",
      "batch_normalization_1 (Batch (None, 50)                200       \n",
      "_________________________________________________________________\n",
      "dense_4 (Dense)              (None, 30)                1530      \n",
      "=================================================================\n",
      "Total params: 24,480\n",
      "Trainable params: 24,380\n",
      "Non-trainable params: 100\n",
      "_________________________________________________________________\n",
      "None\n"
     ]
    }
   ],
   "source": [
    "tf.reset_default_graph()  \n",
    "K.clear_session()\n",
    "model = Sequential()\n",
    "model.add(Dense(100, input_shape = (train_x.shape[1],)))\n",
    "model.add(Dense(100, activation = 'softmax'))\n",
    "model.add(Dropout(0.2))\n",
    "model.add(Dense(50, activation = 'relu'))\n",
    "model.add(BatchNormalization())\n",
    "model.add(Dense(30))\n",
    "model.compile(optimizer='nadam', loss=[mean_absolute_error], metrics=[r2_keras])\n",
    "print(model.summary())"
   ]
  },
  {
   "cell_type": "code",
   "execution_count": 23,
   "metadata": {
    "scrolled": true
   },
   "outputs": [
    {
     "name": "stdout",
     "output_type": "stream",
     "text": [
      "Train on 2482 samples, validate on 438 samples\n",
      "Epoch 1/100\n",
      "2482/2482 [==============================] - 1s 383us/step - loss: 0.2146 - r2_keras: 0.1854 - val_loss: 0.1306 - val_r2_keras: 0.2811\n",
      "Epoch 2/100\n",
      "2482/2482 [==============================] - 0s 78us/step - loss: 0.1079 - r2_keras: 0.8087 - val_loss: 0.1262 - val_r2_keras: 0.3193\n",
      "Epoch 3/100\n",
      "2482/2482 [==============================] - 0s 74us/step - loss: 0.1007 - r2_keras: 0.8333 - val_loss: 0.1237 - val_r2_keras: 0.1741\n",
      "Epoch 4/100\n",
      "2482/2482 [==============================] - 0s 76us/step - loss: 0.0952 - r2_keras: 0.8506 - val_loss: 0.0939 - val_r2_keras: 0.6211\n",
      "Epoch 5/100\n",
      "2482/2482 [==============================] - 0s 75us/step - loss: 0.0922 - r2_keras: 0.8607 - val_loss: 0.1133 - val_r2_keras: 0.3924\n",
      "Epoch 6/100\n",
      "2482/2482 [==============================] - 0s 74us/step - loss: 0.0939 - r2_keras: 0.8539 - val_loss: 0.0983 - val_r2_keras: 0.5777\n",
      "Epoch 7/100\n",
      "2482/2482 [==============================] - 0s 79us/step - loss: 0.0910 - r2_keras: 0.8626 - val_loss: 0.0835 - val_r2_keras: 0.6686\n",
      "Epoch 8/100\n",
      "2482/2482 [==============================] - 0s 83us/step - loss: 0.0921 - r2_keras: 0.8587 - val_loss: 0.0946 - val_r2_keras: 0.6284\n",
      "Epoch 9/100\n",
      "2482/2482 [==============================] - 0s 76us/step - loss: 0.0887 - r2_keras: 0.8707 - val_loss: 0.0856 - val_r2_keras: 0.7024\n",
      "Epoch 10/100\n",
      "2482/2482 [==============================] - 0s 77us/step - loss: 0.0889 - r2_keras: 0.8683 - val_loss: 0.0860 - val_r2_keras: 0.6750\n",
      "Epoch 11/100\n",
      "2482/2482 [==============================] - 0s 78us/step - loss: 0.0915 - r2_keras: 0.8620 - val_loss: 0.0901 - val_r2_keras: 0.6788\n",
      "Epoch 12/100\n",
      "2482/2482 [==============================] - 0s 76us/step - loss: 0.0885 - r2_keras: 0.8711 - val_loss: 0.0832 - val_r2_keras: 0.7079\n",
      "Epoch 13/100\n",
      "2482/2482 [==============================] - 0s 78us/step - loss: 0.0871 - r2_keras: 0.8747 - val_loss: 0.0858 - val_r2_keras: 0.6591\n",
      "Epoch 14/100\n",
      "2482/2482 [==============================] - 0s 73us/step - loss: 0.0890 - r2_keras: 0.8681 - val_loss: 0.0797 - val_r2_keras: 0.7250\n",
      "Epoch 15/100\n",
      "2482/2482 [==============================] - 0s 79us/step - loss: 0.0893 - r2_keras: 0.8670 - val_loss: 0.0890 - val_r2_keras: 0.6415\n",
      "Epoch 16/100\n",
      "2482/2482 [==============================] - 0s 85us/step - loss: 0.0868 - r2_keras: 0.8752 - val_loss: 0.0835 - val_r2_keras: 0.6948\n",
      "Epoch 17/100\n",
      "2482/2482 [==============================] - 0s 88us/step - loss: 0.0887 - r2_keras: 0.8691 - val_loss: 0.0880 - val_r2_keras: 0.6903\n",
      "Epoch 18/100\n",
      "2482/2482 [==============================] - 0s 85us/step - loss: 0.0872 - r2_keras: 0.8738 - val_loss: 0.0828 - val_r2_keras: 0.7082\n",
      "Epoch 19/100\n",
      "2482/2482 [==============================] - 0s 83us/step - loss: 0.0868 - r2_keras: 0.8764 - val_loss: 0.0876 - val_r2_keras: 0.6586\n",
      "Epoch 20/100\n",
      "2482/2482 [==============================] - 0s 81us/step - loss: 0.0852 - r2_keras: 0.8795 - val_loss: 0.0856 - val_r2_keras: 0.6968\n",
      "Epoch 21/100\n",
      "2482/2482 [==============================] - 0s 85us/step - loss: 0.0872 - r2_keras: 0.8729 - val_loss: 0.0780 - val_r2_keras: 0.7290\n",
      "Epoch 22/100\n",
      "2482/2482 [==============================] - 0s 85us/step - loss: 0.0903 - r2_keras: 0.8629 - val_loss: 0.0803 - val_r2_keras: 0.7198\n",
      "Epoch 23/100\n",
      "2482/2482 [==============================] - 0s 80us/step - loss: 0.0873 - r2_keras: 0.8729 - val_loss: 0.0818 - val_r2_keras: 0.7049\n",
      "Epoch 24/100\n",
      "2482/2482 [==============================] - 0s 78us/step - loss: 0.0847 - r2_keras: 0.8816 - val_loss: 0.0860 - val_r2_keras: 0.6485\n",
      "Epoch 25/100\n",
      "2482/2482 [==============================] - 0s 87us/step - loss: 0.0838 - r2_keras: 0.8844 - val_loss: 0.0803 - val_r2_keras: 0.7224\n",
      "Epoch 26/100\n",
      "2482/2482 [==============================] - 0s 88us/step - loss: 0.0870 - r2_keras: 0.8742 - val_loss: 0.0791 - val_r2_keras: 0.7276\n",
      "Epoch 27/100\n",
      "2482/2482 [==============================] - 0s 91us/step - loss: 0.0871 - r2_keras: 0.8724 - val_loss: 0.0851 - val_r2_keras: 0.6490\n",
      "Epoch 28/100\n",
      "2482/2482 [==============================] - 0s 93us/step - loss: 0.0861 - r2_keras: 0.8782 - val_loss: 0.0849 - val_r2_keras: 0.6958\n",
      "Epoch 29/100\n",
      "2482/2482 [==============================] - 0s 88us/step - loss: 0.0861 - r2_keras: 0.8745 - val_loss: 0.0784 - val_r2_keras: 0.7123\n",
      "Epoch 30/100\n",
      "2482/2482 [==============================] - 0s 76us/step - loss: 0.0852 - r2_keras: 0.8777 - val_loss: 0.0823 - val_r2_keras: 0.7166\n",
      "Epoch 31/100\n",
      "2482/2482 [==============================] - 0s 84us/step - loss: 0.0864 - r2_keras: 0.8758 - val_loss: 0.0764 - val_r2_keras: 0.7456\n",
      "Epoch 32/100\n",
      "2482/2482 [==============================] - 0s 85us/step - loss: 0.0866 - r2_keras: 0.8762 - val_loss: 0.0843 - val_r2_keras: 0.7104\n",
      "Epoch 33/100\n",
      "2482/2482 [==============================] - 0s 93us/step - loss: 0.0858 - r2_keras: 0.8760 - val_loss: 0.0798 - val_r2_keras: 0.7250\n",
      "Epoch 34/100\n",
      "2482/2482 [==============================] - 0s 87us/step - loss: 0.0849 - r2_keras: 0.8800 - val_loss: 0.0792 - val_r2_keras: 0.7299\n",
      "Epoch 35/100\n",
      "2482/2482 [==============================] - 0s 89us/step - loss: 0.0830 - r2_keras: 0.8858 - val_loss: 0.0785 - val_r2_keras: 0.7288\n",
      "Epoch 36/100\n",
      "2482/2482 [==============================] - 0s 83us/step - loss: 0.0848 - r2_keras: 0.8792 - val_loss: 0.0805 - val_r2_keras: 0.7138\n",
      "Epoch 37/100\n",
      "2482/2482 [==============================] - 0s 81us/step - loss: 0.0849 - r2_keras: 0.8797 - val_loss: 0.0821 - val_r2_keras: 0.7146\n",
      "Epoch 38/100\n",
      "2482/2482 [==============================] - 0s 90us/step - loss: 0.0874 - r2_keras: 0.8707 - val_loss: 0.0833 - val_r2_keras: 0.7060\n",
      "Epoch 39/100\n",
      "2482/2482 [==============================] - 0s 91us/step - loss: 0.0839 - r2_keras: 0.8835 - val_loss: 0.0807 - val_r2_keras: 0.7221\n",
      "Epoch 40/100\n",
      "2482/2482 [==============================] - 0s 95us/step - loss: 0.0854 - r2_keras: 0.8783 - val_loss: 0.0805 - val_r2_keras: 0.7213\n",
      "Epoch 41/100\n",
      "2482/2482 [==============================] - 0s 86us/step - loss: 0.0847 - r2_keras: 0.8809 - val_loss: 0.0775 - val_r2_keras: 0.7353\n",
      "Epoch 42/100\n",
      "2482/2482 [==============================] - 0s 80us/step - loss: 0.0855 - r2_keras: 0.8793 - val_loss: 0.0823 - val_r2_keras: 0.7238\n",
      "Epoch 43/100\n",
      "2482/2482 [==============================] - 0s 87us/step - loss: 0.0844 - r2_keras: 0.8823 - val_loss: 0.0776 - val_r2_keras: 0.7387\n",
      "Epoch 44/100\n",
      "2482/2482 [==============================] - 0s 89us/step - loss: 0.0819 - r2_keras: 0.8894 - val_loss: 0.0765 - val_r2_keras: 0.7400\n",
      "Epoch 45/100\n",
      "2482/2482 [==============================] - 0s 92us/step - loss: 0.0842 - r2_keras: 0.8814 - val_loss: 0.0867 - val_r2_keras: 0.6599\n",
      "Epoch 46/100\n",
      "2482/2482 [==============================] - 0s 93us/step - loss: 0.0811 - r2_keras: 0.8907 - val_loss: 0.0790 - val_r2_keras: 0.7231\n",
      "Epoch 47/100\n",
      "2482/2482 [==============================] - 0s 91us/step - loss: 0.0828 - r2_keras: 0.8841 - val_loss: 0.0887 - val_r2_keras: 0.6392\n",
      "Epoch 48/100\n",
      "2482/2482 [==============================] - 0s 95us/step - loss: 0.0834 - r2_keras: 0.8850 - val_loss: 0.0849 - val_r2_keras: 0.6805\n",
      "Epoch 49/100\n",
      "2482/2482 [==============================] - 0s 85us/step - loss: 0.0839 - r2_keras: 0.8813 - val_loss: 0.0778 - val_r2_keras: 0.7345\n",
      "Epoch 50/100\n",
      "2482/2482 [==============================] - 0s 86us/step - loss: 0.0863 - r2_keras: 0.8776 - val_loss: 0.0786 - val_r2_keras: 0.7207\n",
      "Epoch 51/100\n",
      "2482/2482 [==============================] - 0s 85us/step - loss: 0.0830 - r2_keras: 0.8830 - val_loss: 0.0757 - val_r2_keras: 0.7522\n",
      "Epoch 52/100\n",
      "2482/2482 [==============================] - 0s 77us/step - loss: 0.0830 - r2_keras: 0.8853 - val_loss: 0.0775 - val_r2_keras: 0.7378\n",
      "Epoch 53/100\n",
      "2482/2482 [==============================] - 0s 85us/step - loss: 0.0838 - r2_keras: 0.8829 - val_loss: 0.0779 - val_r2_keras: 0.7447\n",
      "Epoch 54/100\n",
      "2482/2482 [==============================] - 0s 94us/step - loss: 0.0846 - r2_keras: 0.8806 - val_loss: 0.0842 - val_r2_keras: 0.6833\n",
      "Epoch 55/100\n",
      "2482/2482 [==============================] - 0s 89us/step - loss: 0.0818 - r2_keras: 0.8885 - val_loss: 0.0790 - val_r2_keras: 0.7247\n",
      "Epoch 56/100\n"
     ]
    },
    {
     "name": "stdout",
     "output_type": "stream",
     "text": [
      "2482/2482 [==============================] - 0s 85us/step - loss: 0.0882 - r2_keras: 0.8680 - val_loss: 0.0785 - val_r2_keras: 0.7300\n",
      "Epoch 57/100\n",
      "2482/2482 [==============================] - 0s 75us/step - loss: 0.0806 - r2_keras: 0.8917 - val_loss: 0.0769 - val_r2_keras: 0.7423\n",
      "Epoch 58/100\n",
      "2482/2482 [==============================] - 0s 76us/step - loss: 0.0855 - r2_keras: 0.8772 - val_loss: 0.0779 - val_r2_keras: 0.7321\n",
      "Epoch 59/100\n",
      "2482/2482 [==============================] - 0s 83us/step - loss: 0.0832 - r2_keras: 0.8845 - val_loss: 0.0811 - val_r2_keras: 0.7208\n",
      "Epoch 60/100\n",
      "2482/2482 [==============================] - 0s 82us/step - loss: 0.0811 - r2_keras: 0.8914 - val_loss: 0.0774 - val_r2_keras: 0.7447\n",
      "Epoch 61/100\n",
      "2482/2482 [==============================] - 0s 81us/step - loss: 0.0804 - r2_keras: 0.8918 - val_loss: 0.0800 - val_r2_keras: 0.6966\n",
      "Epoch 62/100\n",
      "2482/2482 [==============================] - 0s 79us/step - loss: 0.0814 - r2_keras: 0.8892 - val_loss: 0.0839 - val_r2_keras: 0.6757\n",
      "Epoch 63/100\n",
      "2482/2482 [==============================] - 0s 75us/step - loss: 0.0827 - r2_keras: 0.8862 - val_loss: 0.0789 - val_r2_keras: 0.7353\n",
      "Epoch 64/100\n",
      "2482/2482 [==============================] - 0s 78us/step - loss: 0.0810 - r2_keras: 0.8907 - val_loss: 0.0789 - val_r2_keras: 0.7284\n",
      "Epoch 65/100\n",
      "2482/2482 [==============================] - 0s 78us/step - loss: 0.0816 - r2_keras: 0.8885 - val_loss: 0.0786 - val_r2_keras: 0.7277\n",
      "Epoch 66/100\n",
      "2482/2482 [==============================] - 0s 83us/step - loss: 0.0839 - r2_keras: 0.8846 - val_loss: 0.0767 - val_r2_keras: 0.7419\n",
      "Epoch 67/100\n",
      "2482/2482 [==============================] - 0s 81us/step - loss: 0.0841 - r2_keras: 0.8815 - val_loss: 0.0759 - val_r2_keras: 0.7472\n",
      "Epoch 68/100\n",
      "2482/2482 [==============================] - 0s 84us/step - loss: 0.0838 - r2_keras: 0.8822 - val_loss: 0.0916 - val_r2_keras: 0.6085\n",
      "Epoch 69/100\n",
      "2482/2482 [==============================] - 0s 77us/step - loss: 0.0813 - r2_keras: 0.8896 - val_loss: 0.0836 - val_r2_keras: 0.6823\n",
      "Epoch 70/100\n",
      "2482/2482 [==============================] - 0s 76us/step - loss: 0.0833 - r2_keras: 0.8848 - val_loss: 0.0862 - val_r2_keras: 0.6712\n",
      "Epoch 71/100\n",
      "2482/2482 [==============================] - 0s 82us/step - loss: 0.0842 - r2_keras: 0.8820 - val_loss: 0.0831 - val_r2_keras: 0.6931\n",
      "Epoch 72/100\n",
      "2482/2482 [==============================] - 0s 81us/step - loss: 0.0814 - r2_keras: 0.8913 - val_loss: 0.0807 - val_r2_keras: 0.7247\n",
      "Epoch 73/100\n",
      "2482/2482 [==============================] - 0s 77us/step - loss: 0.0837 - r2_keras: 0.8827 - val_loss: 0.0782 - val_r2_keras: 0.7299\n",
      "Epoch 74/100\n",
      "2482/2482 [==============================] - 0s 74us/step - loss: 0.0823 - r2_keras: 0.8858 - val_loss: 0.0767 - val_r2_keras: 0.7423\n",
      "Epoch 75/100\n",
      "2482/2482 [==============================] - 0s 77us/step - loss: 0.0833 - r2_keras: 0.8860 - val_loss: 0.0779 - val_r2_keras: 0.7405\n",
      "Epoch 76/100\n",
      "2482/2482 [==============================] - 0s 83us/step - loss: 0.0813 - r2_keras: 0.8893 - val_loss: 0.0842 - val_r2_keras: 0.6869\n",
      "Epoch 77/100\n",
      "2482/2482 [==============================] - 0s 82us/step - loss: 0.0822 - r2_keras: 0.8871 - val_loss: 0.0800 - val_r2_keras: 0.7153\n",
      "Epoch 78/100\n",
      "2482/2482 [==============================] - 0s 79us/step - loss: 0.0851 - r2_keras: 0.8789 - val_loss: 0.0823 - val_r2_keras: 0.6989\n",
      "Epoch 79/100\n",
      "2482/2482 [==============================] - 0s 77us/step - loss: 0.0837 - r2_keras: 0.8843 - val_loss: 0.0790 - val_r2_keras: 0.7393\n",
      "Epoch 80/100\n",
      "2482/2482 [==============================] - 0s 76us/step - loss: 0.0821 - r2_keras: 0.8862 - val_loss: 0.0758 - val_r2_keras: 0.7507\n",
      "Epoch 81/100\n",
      "2482/2482 [==============================] - 0s 77us/step - loss: 0.0827 - r2_keras: 0.8866 - val_loss: 0.0762 - val_r2_keras: 0.7475\n",
      "Epoch 82/100\n",
      "2482/2482 [==============================] - 0s 83us/step - loss: 0.0829 - r2_keras: 0.8864 - val_loss: 0.0792 - val_r2_keras: 0.7274\n",
      "Epoch 83/100\n",
      "2482/2482 [==============================] - 0s 84us/step - loss: 0.0828 - r2_keras: 0.8865 - val_loss: 0.0863 - val_r2_keras: 0.6506\n",
      "Epoch 84/100\n",
      "2482/2482 [==============================] - 0s 85us/step - loss: 0.0846 - r2_keras: 0.8811 - val_loss: 0.0778 - val_r2_keras: 0.7328\n",
      "Epoch 85/100\n",
      "2482/2482 [==============================] - 0s 79us/step - loss: 0.0835 - r2_keras: 0.8844 - val_loss: 0.0813 - val_r2_keras: 0.7216\n",
      "Epoch 86/100\n",
      "2482/2482 [==============================] - 0s 78us/step - loss: 0.0824 - r2_keras: 0.8879 - val_loss: 0.0782 - val_r2_keras: 0.7265\n",
      "Epoch 87/100\n",
      "2482/2482 [==============================] - 0s 79us/step - loss: 0.0814 - r2_keras: 0.8909 - val_loss: 0.0759 - val_r2_keras: 0.7510\n",
      "Epoch 88/100\n",
      "2482/2482 [==============================] - 0s 84us/step - loss: 0.0843 - r2_keras: 0.8776 - val_loss: 0.0753 - val_r2_keras: 0.7534\n",
      "Epoch 89/100\n",
      "2482/2482 [==============================] - 0s 84us/step - loss: 0.0836 - r2_keras: 0.8834 - val_loss: 0.0816 - val_r2_keras: 0.7103\n",
      "Epoch 90/100\n",
      "2482/2482 [==============================] - 0s 85us/step - loss: 0.0809 - r2_keras: 0.8914 - val_loss: 0.0772 - val_r2_keras: 0.7358\n",
      "Epoch 91/100\n",
      "2482/2482 [==============================] - 0s 83us/step - loss: 0.0800 - r2_keras: 0.8946 - val_loss: 0.0809 - val_r2_keras: 0.7186\n",
      "Epoch 92/100\n",
      "2482/2482 [==============================] - 0s 85us/step - loss: 0.0817 - r2_keras: 0.8894 - val_loss: 0.0776 - val_r2_keras: 0.7337\n",
      "Epoch 93/100\n",
      "2482/2482 [==============================] - 0s 89us/step - loss: 0.0822 - r2_keras: 0.8876 - val_loss: 0.0791 - val_r2_keras: 0.7274\n",
      "Epoch 94/100\n",
      "2482/2482 [==============================] - 0s 87us/step - loss: 0.0824 - r2_keras: 0.8876 - val_loss: 0.0788 - val_r2_keras: 0.7300\n",
      "Epoch 95/100\n",
      "2482/2482 [==============================] - 0s 86us/step - loss: 0.0822 - r2_keras: 0.8867 - val_loss: 0.0756 - val_r2_keras: 0.7524\n",
      "Epoch 96/100\n",
      "2482/2482 [==============================] - 0s 85us/step - loss: 0.0838 - r2_keras: 0.8794 - val_loss: 0.0790 - val_r2_keras: 0.7202\n",
      "Epoch 97/100\n",
      "2482/2482 [==============================] - 0s 83us/step - loss: 0.0846 - r2_keras: 0.8803 - val_loss: 0.0784 - val_r2_keras: 0.7277\n",
      "Epoch 98/100\n",
      "2482/2482 [==============================] - 0s 83us/step - loss: 0.0827 - r2_keras: 0.8858 - val_loss: 0.0779 - val_r2_keras: 0.7292\n",
      "Epoch 99/100\n",
      "2482/2482 [==============================] - 0s 81us/step - loss: 0.0840 - r2_keras: 0.8828 - val_loss: 0.0792 - val_r2_keras: 0.7202\n",
      "Epoch 100/100\n",
      "2482/2482 [==============================] - 0s 99us/step - loss: 0.0789 - r2_keras: 0.8957 - val_loss: 0.0773 - val_r2_keras: 0.7315\n"
     ]
    },
    {
     "data": {
      "text/plain": [
       "<keras.callbacks.History at 0x13cd069dfd0>"
      ]
     },
     "execution_count": 23,
     "metadata": {},
     "output_type": "execute_result"
    }
   ],
   "source": [
    "model.fit(train_x, train_y, batch_size = 32, epochs=100,  verbose=1, validation_data=(test_x, test_y))"
   ]
  },
  {
   "cell_type": "code",
   "execution_count": 24,
   "metadata": {},
   "outputs": [],
   "source": [
    "predicted = model.predict(test_x[0:300])"
   ]
  },
  {
   "cell_type": "code",
   "execution_count": 25,
   "metadata": {},
   "outputs": [],
   "source": [
    "real = np.asarray(test_y[0:300])\n"
   ]
  },
  {
   "cell_type": "code",
   "execution_count": 26,
   "metadata": {},
   "outputs": [],
   "source": [
    "norma_df = pd.DataFrame(norma).T\n",
    "norma_df.columns = data.columns"
   ]
  },
  {
   "cell_type": "code",
   "execution_count": 27,
   "metadata": {},
   "outputs": [],
   "source": [
    "columns = ['TMIN_NY', 'TMIN_W', 'TMIN_C', 'TMIN_A', 'TMIN_PAS',\n",
    "                    'TMIN_PORT', 'TMIN_OKL', 'TMIN_MINEAP', 'TMIN_DENV',\n",
    "                    'TMIN_KZ', 'TMIN_ST_ANT', 'TMIN_ST_FR', 'TMIN_GR_CA',\n",
    "                    'TMIN_MT_BX', 'TMIN_FR_MU',\n",
    "                    'TMAX_NY', 'TMAX_W', 'TMAX_C', 'TMAX_A', 'TMAX_PAS',\n",
    "                    'TMAX_PORT', 'TMAX_OKL', 'TMAX_MINEAP', 'TMAX_DENV',\n",
    "                    'TMAX_KZ', 'TMAX_ST_ANT', 'TMAX_ST_FR', 'TMAX_GR_CA',\n",
    "                    'TMAX_MT_BX', 'TMAX_FR_MU',\n",
    "                    ]\n",
    "norma_df_y = norma_df[:][columns]"
   ]
  },
  {
   "cell_type": "code",
   "execution_count": 28,
   "metadata": {},
   "outputs": [],
   "source": [
    "diff = [predicted[i] * norma_df_y - real[i] * norma_df_y for i in range(0, predicted.shape[0])]\n",
    "diff = pd.concat(diff)"
   ]
  },
  {
   "cell_type": "code",
   "execution_count": 29,
   "metadata": {},
   "outputs": [
    {
     "data": {
      "text/plain": [
       "(TMIN_NY        0.552131\n",
       " TMIN_W         0.423187\n",
       " TMIN_C         0.749424\n",
       " TMIN_A         0.385047\n",
       " TMIN_PAS      -0.176188\n",
       " TMIN_PORT      0.367197\n",
       " TMIN_OKL       1.170312\n",
       " TMIN_MINEAP    1.233225\n",
       " TMIN_DENV      0.638779\n",
       " TMIN_KZ        0.847212\n",
       " TMIN_ST_ANT    0.694993\n",
       " TMIN_ST_FR     0.443186\n",
       " TMIN_GR_CA     0.196460\n",
       " TMIN_MT_BX     0.808277\n",
       " TMIN_FR_MU     0.655557\n",
       " TMAX_NY        0.303873\n",
       " TMAX_W         0.465858\n",
       " TMAX_C         0.452635\n",
       " TMAX_A         0.590703\n",
       " TMAX_PAS       0.684252\n",
       " TMAX_PORT      0.581793\n",
       " TMAX_OKL       1.117801\n",
       " TMAX_MINEAP    0.349206\n",
       " TMAX_DENV     -0.310496\n",
       " TMAX_KZ        0.317116\n",
       " TMAX_ST_ANT    0.635120\n",
       " TMAX_ST_FR     0.422597\n",
       " TMAX_GR_CA    -0.621016\n",
       " TMAX_MT_BX    -0.389598\n",
       " TMAX_FR_MU    -0.578449\n",
       " dtype: float64, TMIN_NY         7.013564\n",
       " TMIN_W          9.714198\n",
       " TMIN_C          8.000502\n",
       " TMIN_A          9.327614\n",
       " TMIN_PAS        3.570190\n",
       " TMIN_PORT       5.840036\n",
       " TMIN_OKL       11.317688\n",
       " TMIN_MINEAP    10.014386\n",
       " TMIN_DENV      12.193334\n",
       " TMIN_KZ         8.829644\n",
       " TMIN_ST_ANT     9.713359\n",
       " TMIN_ST_FR      2.934170\n",
       " TMIN_GR_CA      9.458676\n",
       " TMIN_MT_BX      7.715729\n",
       " TMIN_FR_MU      7.716734\n",
       " TMAX_NY        13.666306\n",
       " TMAX_W         14.539776\n",
       " TMAX_C         14.161338\n",
       " TMAX_A         10.376466\n",
       " TMAX_PAS       14.537054\n",
       " TMAX_PORT      14.835944\n",
       " TMAX_OKL       16.040931\n",
       " TMAX_MINEAP    17.435554\n",
       " TMAX_DENV      27.696098\n",
       " TMAX_KZ        14.335760\n",
       " TMAX_ST_ANT    10.153852\n",
       " TMAX_ST_FR      7.931363\n",
       " TMAX_GR_CA     10.569655\n",
       " TMAX_MT_BX     12.682913\n",
       " TMAX_FR_MU     17.169404\n",
       " dtype: float64)"
      ]
     },
     "execution_count": 29,
     "metadata": {},
     "output_type": "execute_result"
    }
   ],
   "source": [
    "np.mean(diff), np.var(diff)"
   ]
  },
  {
   "cell_type": "code",
   "execution_count": 30,
   "metadata": {},
   "outputs": [],
   "source": [
    "import matplotlib.pyplot as plt"
   ]
  },
  {
   "cell_type": "code",
   "execution_count": 31,
   "metadata": {},
   "outputs": [
    {
     "data": {
      "text/plain": [
       "[<matplotlib.lines.Line2D at 0x13cd6c80390>,\n",
       " <matplotlib.lines.Line2D at 0x13cd6c80518>,\n",
       " <matplotlib.lines.Line2D at 0x13cd6c80630>,\n",
       " <matplotlib.lines.Line2D at 0x13cd6c80780>,\n",
       " <matplotlib.lines.Line2D at 0x13cd6c808d0>,\n",
       " <matplotlib.lines.Line2D at 0x13cd6c80a20>,\n",
       " <matplotlib.lines.Line2D at 0x13cd6c80b70>,\n",
       " <matplotlib.lines.Line2D at 0x13cd6c80cc0>,\n",
       " <matplotlib.lines.Line2D at 0x13cd6c80e10>,\n",
       " <matplotlib.lines.Line2D at 0x13cd6c80f60>,\n",
       " <matplotlib.lines.Line2D at 0x13cd6c51128>,\n",
       " <matplotlib.lines.Line2D at 0x13cd6c1f208>,\n",
       " <matplotlib.lines.Line2D at 0x13cd6c1f358>,\n",
       " <matplotlib.lines.Line2D at 0x13cd6c1f4a8>,\n",
       " <matplotlib.lines.Line2D at 0x13cd6c1f5f8>,\n",
       " <matplotlib.lines.Line2D at 0x13cd6c1f748>,\n",
       " <matplotlib.lines.Line2D at 0x13cd6c1f898>,\n",
       " <matplotlib.lines.Line2D at 0x13cd6c1f9e8>,\n",
       " <matplotlib.lines.Line2D at 0x13cd6c1fb38>,\n",
       " <matplotlib.lines.Line2D at 0x13cd6c1fc88>,\n",
       " <matplotlib.lines.Line2D at 0x13cd6c1fdd8>,\n",
       " <matplotlib.lines.Line2D at 0x13cd6c1ff28>,\n",
       " <matplotlib.lines.Line2D at 0x13cd6c230b8>,\n",
       " <matplotlib.lines.Line2D at 0x13cd6c23208>,\n",
       " <matplotlib.lines.Line2D at 0x13cd6c23358>,\n",
       " <matplotlib.lines.Line2D at 0x13cd6c234a8>,\n",
       " <matplotlib.lines.Line2D at 0x13cd6c235f8>,\n",
       " <matplotlib.lines.Line2D at 0x13cd6c23748>,\n",
       " <matplotlib.lines.Line2D at 0x13cd6c23898>,\n",
       " <matplotlib.lines.Line2D at 0x13cd6c239e8>]"
      ]
     },
     "execution_count": 31,
     "metadata": {},
     "output_type": "execute_result"
    },
    {
     "data": {
      "image/png": "[encoded data removed]",
      "text/plain": [
       "<Figure size 432x288 with 1 Axes>"
      ]
     },
     "metadata": {
      "needs_background": "light"
     },
     "output_type": "display_data"
    }
   ],
   "source": [
    "plt.plot(range(0, diff[columns[:]][:].shape[0]),diff[columns[:]][:], '.')\n"
   ]
  },
  {
   "cell_type": "code",
   "execution_count": null,
   "metadata": {},
   "outputs": [],
   "source": []
  }
 ],
 "metadata": {
  "kernelspec": {
   "display_name": "Python 3",
   "language": "python",
   "name": "python3"
  },
  "language_info": {
   "codemirror_mode": {
    "name": "ipython",
    "version": 3
   },
   "file_extension": ".py",
   "mimetype": "text/x-python",
   "name": "python",
   "nbconvert_exporter": "python",
   "pygments_lexer": "ipython3",
   "version": "3.6.0"
  }
 },
 "nbformat": 4,
 "nbformat_minor": 2
}
